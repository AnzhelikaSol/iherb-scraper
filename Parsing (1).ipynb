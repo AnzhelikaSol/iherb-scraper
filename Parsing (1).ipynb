{
 "cells": [
  {
   "cell_type": "markdown",
   "metadata": {},
   "source": [
    "## iHerb parser"
   ]
  },
  {
   "cell_type": "code",
   "execution_count": 1,
   "metadata": {},
   "outputs": [],
   "source": [
    "import requests as req  #request library\n",
    "import pandas as pd\n",
    "import numpy as np\n",
    "import time"
   ]
  },
  {
   "cell_type": "code",
   "execution_count": 2,
   "metadata": {},
   "outputs": [
    {
     "name": "stderr",
     "output_type": "stream",
     "text": [
      "ERROR: Invalid requirement: '#a'\n"
     ]
    }
   ],
   "source": [
    "!pip install fake_useragent #a library for generating a fake user agent"
   ]
  },
  {
   "cell_type": "code",
   "execution_count": 3,
   "metadata": {},
   "outputs": [
    {
     "name": "stderr",
     "output_type": "stream",
     "text": [
      "ERROR: Invalid requirement: '#library'\n"
     ]
    }
   ],
   "source": [
    "!pip install beautifulsoup4  #library for structuring the data of the primary html code of the page"
   ]
  },
  {
   "cell_type": "code",
   "execution_count": 4,
   "metadata": {},
   "outputs": [
    {
     "name": "stdout",
     "output_type": "stream",
     "text": [
      "Requirement already satisfied: lxml in c:\\users\\anzhelika soldatova\\anaconda3\\lib\\site-packages (4.5.0)\n"
     ]
    }
   ],
   "source": [
    "!pip install lxml"
   ]
  },
  {
   "cell_type": "code",
   "execution_count": 5,
   "metadata": {},
   "outputs": [],
   "source": [
    "from fake_useragent import UserAgent # let's load one of the methods of fake_useragent library\n",
    "import bs4\n",
    "from bs4 import BeautifulSoup as bs"
   ]
  },
  {
   "cell_type": "code",
   "execution_count": 6,
   "metadata": {},
   "outputs": [
    {
     "data": {
      "text/plain": [
       "<Response [200]>"
      ]
     },
     "execution_count": 6,
     "metadata": {},
     "output_type": "execute_result"
    }
   ],
   "source": [
    "#the main page link\n",
    "page_link = 'https://il.iherb.com/c/eye-vision'\n",
    "\n",
    "#making a request\n",
    "response = req.get(page_link, headers={'User-Agent': UserAgent().chrome, 'referer':'https://www.google.com/'})\n",
    "response"
   ]
  },
  {
   "cell_type": "code",
   "execution_count": 7,
   "metadata": {},
   "outputs": [
    {
     "data": {
      "text/plain": [
       "1273493"
      ]
     },
     "execution_count": 7,
     "metadata": {},
     "output_type": "execute_result"
    }
   ],
   "source": [
    "html=response.content\n",
    "\n",
    "len(html)"
   ]
  },
  {
   "cell_type": "code",
   "execution_count": 8,
   "metadata": {},
   "outputs": [
    {
     "data": {
      "text/plain": [
       "b'\\n\\n<!DOCTYPE html>\\n\\n\\n\\n\\n<!--[if IE 9 ]> <html class=\"ie9 he list productlist &#x5E2;&#x5D9;&#x5E0;&#x5D9;&#x5D9;&#x5DD;-&#x5D5;&#x5E8;&#x5D0;&#x5D9;&#x5D9;&#x5D4;-list\" dir=\"rtl\" lang=\"he\"> <![endif]-->\\n<!--[if IE 10 ]> <html class=\"ie10 he list productlist &#x5E2;&#x5D9;&#x5E0;&#x5D9;&#x5D9;&#x5DD;-&#x5D5;&#x5E8;&#x5D0;&#x5D9;&#x5D9;&#x5D4;-list\" dir=\"rtl\" lang=\"he\"> <![endif]-->\\n<!--[if (gt IE 9)|!(IE)]><!-->\\n\\n\\n<html class=\"ih-public ih-catalog cc-il he list productlist category &#x5E2;&#x5D9;&#'"
      ]
     },
     "execution_count": 8,
     "metadata": {},
     "output_type": "execute_result"
    }
   ],
   "source": [
    "html[:500]"
   ]
  },
  {
   "cell_type": "code",
   "execution_count": 9,
   "metadata": {},
   "outputs": [
    {
     "data": {
      "text/plain": [
       "bs4.BeautifulSoup"
      ]
     },
     "execution_count": 9,
     "metadata": {},
     "output_type": "execute_result"
    }
   ],
   "source": [
    "soup=bs(html, 'html.parser')    #lxml\n",
    "\n",
    "type(soup)"
   ]
  },
  {
   "cell_type": "code",
   "execution_count": 10,
   "metadata": {},
   "outputs": [
    {
     "name": "stdout",
     "output_type": "stream",
     "text": [
      "<!DOCTYPE html>\n",
      "<!--[if IE 9 ]> <html class=\"ie9 he list productlist &#x5E2;&#x5D9;&#x5E0;&#x5D9;&#x5D9;&#x5DD;-&#x5D5;&#x5E8;&#x5D0;&#x5D9;&#x5D9;&#x5D4;-list\" dir=\"rtl\" lang=\"he\"> <![endif]-->\n",
      "<!--[if IE 10 ]> <html class=\"ie10 he list productlist &#x5E2;&#x5D9;&#x5E0;&#x5D9;&#x5D9;&#x5DD;-&#x5D5;&#x5E8;&#x5D0;&#x5D9;&#x5D9;&#x5D4;-list\" dir=\"rtl\" lang=\"he\"> <![endif]-->\n",
      "<!--[if (gt IE 9)|!(IE)]><!-->\n",
      "<html class=\"ih-public ih-catalog cc-il he list productlist category עיניים-וראייה-list core-app\" dir=\"rtl\" lang=\"he\">\n",
      " <!--<![endif]-->\n",
      " <head>\n",
      "  <!-- production/catalog/bahrain 2055 -->\n",
      "  <link href=\"https://s3.images-iherb.com/\" rel=\"dns-prefetch\"/>\n",
      "  <link href=\"https://s3.images-iherb.com/static/i/favicon-iherb/favicon.ico\" rel=\"icon\" type=\"image/ico\">\n",
      "   <link href=\"https://il.iherb.com/c/eye-vision\" rel=\"canonical\"/>\n",
      "   <link href=\"https://zw.iherb.com/c/eye-vision\" hreflang=\"en-ZW\" rel=\"alternate\"/>\n",
      "   <link href=\"https://zm.iherb.com/c/eye-vision\" hreflang=\"en-ZM\" rel=\"alternat\n"
     ]
    }
   ],
   "source": [
    "print(soup.prettify()[:1000])"
   ]
  },
  {
   "cell_type": "code",
   "execution_count": 11,
   "metadata": {},
   "outputs": [
    {
     "data": {
      "text/plain": [
       "<title> עיניים וראייה </title>"
      ]
     },
     "execution_count": 11,
     "metadata": {},
     "output_type": "execute_result"
    }
   ],
   "source": [
    "soup.html.head.title"
   ]
  },
  {
   "cell_type": "code",
   "execution_count": 12,
   "metadata": {},
   "outputs": [
    {
     "data": {
      "text/plain": [
       "bs4.element.Tag"
      ]
     },
     "execution_count": 12,
     "metadata": {},
     "output_type": "execute_result"
    }
   ],
   "source": [
    "type(soup.html.head.title)"
   ]
  },
  {
   "cell_type": "code",
   "execution_count": 13,
   "metadata": {},
   "outputs": [
    {
     "data": {
      "text/plain": [
       "' עיניים וראייה '"
      ]
     },
     "execution_count": 13,
     "metadata": {},
     "output_type": "execute_result"
    }
   ],
   "source": [
    "#pulling out the text\n",
    "soup.html.head.title.text"
   ]
  },
  {
   "cell_type": "code",
   "execution_count": 14,
   "metadata": {
    "scrolled": true
   },
   "outputs": [
    {
     "data": {
      "text/plain": [
       "<a aria-label=\"California Gold Nutrition, Immune 4, Immune System Support, 60 Veggie Capsules\" class=\"absolute-link product-link\" data-ga-brand-code=\"CGN\" data-ga-discount-price=\"₪14.74\" data-ga-event=\"click\" data-ga-event-action=\"productClick\" data-ga-event-category=\"Ecommerce\" data-ga-event-label=\"Product List_ListView:special\" data-ga-product-id=\"101714\" data-ga-product-position=\"1\" data-part-number=\"CGN-01842\" data-product-id=\"101714\" href=\"https://il.iherb.com/pr/california-gold-nutrition-immune-4-immune-system-support-60-veggie-capsules/101714\" itemprop=\"url\" title=\"California Gold Nutrition, Immune 4, Immune System Support, 60 Veggie Capsules\"></a>"
      ]
     },
     "execution_count": 14,
     "metadata": {},
     "output_type": "execute_result"
    }
   ],
   "source": [
    "#finding an element by class\n",
    "obj = soup.find('a', attrs = {'class':'absolute-link product-link'})\n",
    "obj"
   ]
  },
  {
   "cell_type": "code",
   "execution_count": 15,
   "metadata": {},
   "outputs": [
    {
     "data": {
      "text/plain": [
       "['absolute-link', 'product-link']"
      ]
     },
     "execution_count": 15,
     "metadata": {},
     "output_type": "execute_result"
    }
   ],
   "source": [
    "obj.get('class')"
   ]
  },
  {
   "cell_type": "code",
   "execution_count": 16,
   "metadata": {},
   "outputs": [
    {
     "data": {
      "text/plain": [
       "bs4.element.Tag"
      ]
     },
     "execution_count": 16,
     "metadata": {},
     "output_type": "execute_result"
    }
   ],
   "source": [
    "type(obj)"
   ]
  },
  {
   "cell_type": "code",
   "execution_count": 17,
   "metadata": {},
   "outputs": [
    {
     "data": {
      "text/plain": [
       "'https://il.iherb.com/pr/california-gold-nutrition-immune-4-immune-system-support-60-veggie-capsules/101714'"
      ]
     },
     "execution_count": 17,
     "metadata": {},
     "output_type": "execute_result"
    }
   ],
   "source": [
    "#link to our object\n",
    "obj.attrs['href']"
   ]
  },
  {
   "cell_type": "code",
   "execution_count": 18,
   "metadata": {},
   "outputs": [
    {
     "data": {
      "text/plain": [
       "str"
      ]
     },
     "execution_count": 18,
     "metadata": {},
     "output_type": "execute_result"
    }
   ],
   "source": [
    "type(obj.attrs['href'])"
   ]
  },
  {
   "cell_type": "code",
   "execution_count": 19,
   "metadata": {},
   "outputs": [
    {
     "data": {
      "text/plain": [
       "[<a aria-label=\"California Gold Nutrition, Immune 4, Immune System Support, 60 Veggie Capsules\" class=\"absolute-link product-link\" data-ga-brand-code=\"CGN\" data-ga-discount-price=\"₪14.74\" data-ga-event=\"click\" data-ga-event-action=\"productClick\" data-ga-event-category=\"Ecommerce\" data-ga-event-label=\"Product List_ListView:special\" data-ga-product-id=\"101714\" data-ga-product-position=\"1\" data-part-number=\"CGN-01842\" data-product-id=\"101714\" href=\"https://il.iherb.com/pr/california-gold-nutrition-immune-4-immune-system-support-60-veggie-capsules/101714\" itemprop=\"url\" title=\"California Gold Nutrition, Immune 4, Immune System Support, 60 Veggie Capsules\"></a>,\n",
       " <a aria-label=\"California Gold Nutrition, Immune 4, Immune System Support, 180 Veggie Capsules\" class=\"absolute-link product-link\" data-ga-brand-code=\"CGN\" data-ga-discount-price=\"₪42.13\" data-ga-event=\"click\" data-ga-event-action=\"productClick\" data-ga-event-category=\"Ecommerce\" data-ga-event-label=\"Product List_ListView:special\" data-ga-product-id=\"101716\" data-ga-product-position=\"2\" data-part-number=\"CGN-01856\" data-product-id=\"101716\" href=\"https://il.iherb.com/pr/california-gold-nutrition-immune-4-immune-system-support-180-veggie-capsules/101716\" itemprop=\"url\" title=\"California Gold Nutrition, Immune 4, Immune System Support, 180 Veggie Capsules\"></a>,\n",
       " <a aria-label=\"California Gold Nutrition, Astaxanthin, AstaLif Pure Icelandic, 12 mg, 120 Veggie Softgels\" class=\"absolute-link product-link\" data-ga-brand-code=\"CGN\" data-ga-discount-price=\"₪135.85\" data-ga-event=\"click\" data-ga-event-action=\"productClick\" data-ga-event-category=\"Ecommerce\" data-ga-event-label=\"Product List_ListView:special\" data-ga-product-id=\"71684\" data-ga-product-position=\"3\" data-part-number=\"CGN-01104\" data-product-id=\"71684\" href=\"https://il.iherb.com/pr/california-gold-nutrition-astaxanthin-astalif-pure-icelandic-12-mg-120-veggie-softgels/71684\" itemprop=\"url\" title=\"California Gold Nutrition, Astaxanthin, AstaLif Pure Icelandic, 12 mg, 120 Veggie Softgels\"></a>]"
      ]
     },
     "execution_count": 19,
     "metadata": {},
     "output_type": "execute_result"
    }
   ],
   "source": [
    "#finding all the elements with 1 address\n",
    "vitamine_links=soup.findAll(lambda tag: tag.name == 'a' and tag.get('class') == ['absolute-link', 'product-link'])\n",
    "vitamine_links[:3]"
   ]
  },
  {
   "cell_type": "code",
   "execution_count": 20,
   "metadata": {},
   "outputs": [
    {
     "data": {
      "text/plain": [
       "24"
      ]
     },
     "execution_count": 20,
     "metadata": {},
     "output_type": "execute_result"
    }
   ],
   "source": [
    "len(vitamine_links)"
   ]
  },
  {
   "cell_type": "code",
   "execution_count": 21,
   "metadata": {},
   "outputs": [],
   "source": [
    "### cleansing links\n",
    "vitamine_links= [link.attrs['href'] for link in vitamine_links]"
   ]
  },
  {
   "cell_type": "code",
   "execution_count": 22,
   "metadata": {},
   "outputs": [
    {
     "data": {
      "text/plain": [
       "['https://il.iherb.com/pr/california-gold-nutrition-immune-4-immune-system-support-60-veggie-capsules/101714',\n",
       " 'https://il.iherb.com/pr/california-gold-nutrition-immune-4-immune-system-support-180-veggie-capsules/101716',\n",
       " 'https://il.iherb.com/pr/california-gold-nutrition-astaxanthin-astalif-pure-icelandic-12-mg-120-veggie-softgels/71684',\n",
       " 'https://il.iherb.com/pr/natural-factors-eye-factors-with-2-mg-lutein-90-capsules/2612',\n",
       " 'https://il.iherb.com/pr/california-gold-nutrition-omega-3-premium-fish-oil-180-epa-120-dha-100-fish-gelatin-softgels/62118']"
      ]
     },
     "execution_count": 22,
     "metadata": {},
     "output_type": "execute_result"
    }
   ],
   "source": [
    "vitamine_links[:5]"
   ]
  },
  {
   "cell_type": "code",
   "execution_count": 23,
   "metadata": {},
   "outputs": [
    {
     "data": {
      "text/plain": [
       "24"
      ]
     },
     "execution_count": 23,
     "metadata": {},
     "output_type": "execute_result"
    }
   ],
   "source": [
    "len(vitamine_links)"
   ]
  },
  {
   "cell_type": "code",
   "execution_count": 24,
   "metadata": {},
   "outputs": [],
   "source": [
    "#a function that returns a list of product links received from the current page\n",
    "def getPageLinks(page_number):\n",
    "    \n",
    "    page_link = 'https://il.iherb.com/c/eye-vision?noi=24&p={}'.format(page_number)  #link to the search page\n",
    "    \n",
    "    response = req.get(page_link, headers={'User-Agent': UserAgent().chrome})  #requesting data on this page\n",
    "    \n",
    "    if not response.ok:\n",
    "        \n",
    "        return []          #if the server refused us, we will return an empty sheet for the current page\n",
    "    \n",
    "    html = response.content    #getting the content of the page and translating it into soup\n",
    "    soup = bs(html,'html.parser')\n",
    "    \n",
    "    #looking for links to products and clearing them of unnecessary tags\n",
    "    vitamine_links=soup.findAll(lambda tag:tag.name=='a' and tag.get('class') == ['absolute-link', 'product-link'])\n",
    "    vitamine_links = [link.attrs['href'] for link in vitamine_links]\n",
    "    \n",
    "    return vitamine_links"
   ]
  },
  {
   "cell_type": "code",
   "execution_count": 25,
   "metadata": {},
   "outputs": [
    {
     "data": {
      "text/plain": [
       "['https://il.iherb.com/pr/natural-factors-omegafactors-ultra-prim-evening-primrose-oil-1000-mg-180-softgels/2605',\n",
       " 'https://il.iherb.com/pr/solgar-flaxseed-oil-1-250-mg-250-softgels/9033',\n",
       " 'https://il.iherb.com/pr/source-naturals-zeaxanthin-with-lutein-10-mg-60-capsules/4547',\n",
       " 'https://il.iherb.com/pr/source-naturals-provinal-omega-7-30-softgels/55415',\n",
       " 'https://il.iherb.com/pr/organic-traditions-sprouted-chia-flax-seed-powder-16-oz-454-g/106041',\n",
       " 'https://il.iherb.com/pr/zenwise-health-marine-algae-derived-vegan-omega-3-225-mg-60-softgels/105705',\n",
       " 'https://il.iherb.com/pr/doctor-s-best-resveratrol-french-red-wine-grape-extract-60-mg-90-veggie-caps/18',\n",
       " 'https://il.iherb.com/pr/nordic-naturals-ultimate-omega-2x-strawberry-560-mg-60-mini-soft-gels/22346',\n",
       " 'https://il.iherb.com/pr/thorne-research-r-lipoic-acid-60-capsules/18591',\n",
       " 'https://il.iherb.com/pr/wiley-s-finest-wild-alaskan-fish-oil-vitamin-k2-650-mg-60-fish-softgels/73697',\n",
       " 'https://il.iherb.com/pr/solaray-pumpkin-seed-oil-1-000-mg-90-softgels/73732',\n",
       " 'https://il.iherb.com/pr/thompson-cod-liver-oil-400-mg-60-softgels/99963',\n",
       " 'https://il.iherb.com/pr/ip-6-international-ip6-gold-immune-support-formula-240-vegetarian-capsules/107821',\n",
       " 'https://il.iherb.com/pr/jym-supplement-science-omega-3-120-softgels/102276',\n",
       " 'https://il.iherb.com/pr/now-foods-cherry-concentrate-750-mg-180-veg-capsules/14428',\n",
       " 'https://il.iherb.com/pr/spectrum-essentials-ground-flaxseed-with-mixed-berries-12-oz-340-g/21400',\n",
       " 'https://il.iherb.com/pr/nutiva-organic-hempseed-raw-shelled-19-oz-539-g/47362',\n",
       " 'https://il.iherb.com/pr/seabuckwonders-omega-7-complete-sea-buckthorn-oil-blend-500-mg-60-softgels/34921',\n",
       " 'https://il.iherb.com/pr/terry-naturally-omega-7-dry-eye-relief-60-softgels/51685',\n",
       " 'https://il.iherb.com/pr/aurora-nutrascience-mega-liposomal-curcumin-organic-fruit-450-mg-16-fl-oz-480-ml/98665',\n",
       " 'https://il.iherb.com/pr/thorne-research-quercenase-60-capsules/18274',\n",
       " 'https://il.iherb.com/pr/natural-factors-r-lipoic-acid-100-mg-60-vegetarian-capsules/104929',\n",
       " 'https://il.iherb.com/pr/olympian-labs-grape-seed-extract-200-mg-100-vegetarian-capsules/12718',\n",
       " 'https://il.iherb.com/pr/barlean-s-organic-lignan-flax-oil-supplement-16-fl-oz-473-ml/3539']"
      ]
     },
     "execution_count": 25,
     "metadata": {},
     "output_type": "execute_result"
    }
   ],
   "source": [
    "getPageLinks(30)"
   ]
  },
  {
   "cell_type": "markdown",
   "metadata": {},
   "source": [
    "For 1 vitamine product:"
   ]
  },
  {
   "cell_type": "code",
   "execution_count": 26,
   "metadata": {},
   "outputs": [],
   "source": [
    "vitamine_page = 'https://il.iherb.com/pr/sports-research-omega-3-fish-oil-triple-strength-1-250-mg-90-softgels/90284'\n",
    "\n",
    "response = req.get(vitamine_page, headers={'User-Agent': UserAgent().chrome, 'referer':'https://www.google.com/'})\n",
    "html = response.content\n",
    "\n",
    "soup = bs(html, 'lxml')"
   ]
  },
  {
   "cell_type": "code",
   "execution_count": 27,
   "metadata": {},
   "outputs": [
    {
     "data": {
      "text/plain": [
       "<div class=\"col-xs-15 col-md-15 price our-price\" id=\"price\">\n",
       "₪85.88                                    </div>"
      ]
     },
     "execution_count": 27,
     "metadata": {},
     "output_type": "execute_result"
    }
   ],
   "source": [
    "#pull out the price of the product\n",
    "price = soup.find('div', attrs={'class':'col-xs-15 col-md-15 price our-price'}) \n",
    "price"
   ]
  },
  {
   "cell_type": "code",
   "execution_count": 28,
   "metadata": {},
   "outputs": [
    {
     "data": {
      "text/plain": [
       "'\\n₪85.88                                    '"
      ]
     },
     "execution_count": 28,
     "metadata": {},
     "output_type": "execute_result"
    }
   ],
   "source": [
    "price = price.get_text()\n",
    "price"
   ]
  },
  {
   "cell_type": "code",
   "execution_count": 29,
   "metadata": {},
   "outputs": [
    {
     "data": {
      "text/plain": [
       "'₪85.88'"
      ]
     },
     "execution_count": 29,
     "metadata": {},
     "output_type": "execute_result"
    }
   ],
   "source": [
    "price=price.split()[0]\n",
    "price"
   ]
  },
  {
   "cell_type": "code",
   "execution_count": 30,
   "metadata": {},
   "outputs": [
    {
     "data": {
      "text/plain": [
       "'85.88'"
      ]
     },
     "execution_count": 30,
     "metadata": {},
     "output_type": "execute_result"
    }
   ],
   "source": [
    "price = price.replace('₪', '')\n",
    "price"
   ]
  },
  {
   "cell_type": "markdown",
   "metadata": {},
   "source": [
    "We can do the same for the brand, name, description, rating, review, quantity"
   ]
  },
  {
   "cell_type": "code",
   "execution_count": 31,
   "metadata": {},
   "outputs": [
    {
     "data": {
      "text/plain": [
       "<span itemprop=\"name\">\n",
       "<bdi>Sports Research</bdi>\n",
       "</span>"
      ]
     },
     "execution_count": 31,
     "metadata": {},
     "output_type": "execute_result"
    }
   ],
   "source": [
    "brand=soup.find('span', attrs={'itemprop': 'name'})\n",
    "brand"
   ]
  },
  {
   "cell_type": "code",
   "execution_count": 32,
   "metadata": {},
   "outputs": [
    {
     "data": {
      "text/plain": [
       "'\\nSports Research\\n'"
      ]
     },
     "execution_count": 32,
     "metadata": {},
     "output_type": "execute_result"
    }
   ],
   "source": [
    "brand = brand.get_text()\n",
    "brand"
   ]
  },
  {
   "cell_type": "code",
   "execution_count": 33,
   "metadata": {},
   "outputs": [
    {
     "data": {
      "text/plain": [
       "<div class=\"product-summary-title\" id=\"name\" itemprop=\"name\">\n",
       "        Sports Research‏, שמן דגים אומגה 3, עוצמה משולשת, 1,250 מ\"ג, 90 כמוסות רכות\n",
       "    </div>"
      ]
     },
     "execution_count": 33,
     "metadata": {},
     "output_type": "execute_result"
    }
   ],
   "source": [
    "name = soup.find('div',attrs={'class':'product-summary-title', 'itemprop':'name', 'id':'name'})\n",
    "name"
   ]
  },
  {
   "cell_type": "code",
   "execution_count": 34,
   "metadata": {},
   "outputs": [
    {
     "data": {
      "text/plain": [
       "'\\n        Sports Research\\u200f, שמן דגים אומגה 3, עוצמה משולשת, 1,250 מ\"ג, 90 כמוסות רכות\\n    '"
      ]
     },
     "execution_count": 34,
     "metadata": {},
     "output_type": "execute_result"
    }
   ],
   "source": [
    "name=name.get_text()\n",
    "name"
   ]
  },
  {
   "cell_type": "code",
   "execution_count": 35,
   "metadata": {},
   "outputs": [
    {
     "data": {
      "text/plain": [
       "<div itemprop=\"description\"><ul> <li>מיוצר עם AlaskOmega מזהבון בר אלסקי</li> <li>שמן דגים מאושר על ידי IFOS (תכנית תקנים בינלאומית לשמן דגים) בדירוג של 5 כוכבים</li> <li>תוסף תזונה</li> <li>עשוי ללא רכיבים מהונדסים גנטית</li> <li>ללא גלוטן</li> <li>תעודת GMP‏ (תנאי ייצור נאותים)</li> <li>אושר ונבדק על-ידי צד שלישי</li> <li>אושר על ידי MSC (המועצה לשימור ימי) כמאכל ים בר קיימא</li> <li>זיקוק מולקולרי מתקדם ומזוכך</li> <li>מתעלה על הארגון העולמי ל-EPA (חומצה איקוסאפנטאנואית) ו-DHA (חומצה דוקוסהקסנואית)</li> <li>100% מקורי ומיוצר בארצות הברית</li> <li>כמוסה רכה אחת של שמן דגים אומגה-3 של SR* = 3 כמוסות רכות סטנדרטיות של שמן דגים</li></ul><p>שמן דגים אומגה-3 של Sports Research מכיל ריכוזים חזקים במיוחד של EPA ו-DHA בכל כמוסה של ג'לטין דגים (937 מ\"ג). זהבון אלסקי שמקורו במים קרים, שנתפס בר (לא מדגים שגדלו בחווה).</p><p>*כל כמוסת אומגה-3 של Sports Research מכילה סך הכל 80% חומצות שומן חיוניות (EFAs) מסוג אומגה-3.</p></div>"
      ]
     },
     "execution_count": 35,
     "metadata": {},
     "output_type": "execute_result"
    }
   ],
   "source": [
    "description=soup.find('div', attrs={'itemprop':'description'})\n",
    "description"
   ]
  },
  {
   "cell_type": "code",
   "execution_count": 36,
   "metadata": {},
   "outputs": [
    {
     "data": {
      "text/plain": [
       "' מיוצר עם AlaskOmega מזהבון בר אלסקי שמן דגים מאושר על ידי IFOS (תכנית תקנים בינלאומית לשמן דגים) בדירוג של 5 כוכבים תוסף תזונה עשוי ללא רכיבים מהונדסים גנטית ללא גלוטן תעודת GMP\\u200f (תנאי ייצור נאותים) אושר ונבדק על-ידי צד שלישי אושר על ידי MSC (המועצה לשימור ימי) כמאכל ים בר קיימא זיקוק מולקולרי מתקדם ומזוכך מתעלה על הארגון העולמי ל-EPA (חומצה איקוסאפנטאנואית) ו-DHA (חומצה דוקוסהקסנואית) 100% מקורי ומיוצר בארצות הברית כמוסה רכה אחת של שמן דגים אומגה-3 של SR* = 3 כמוסות רכות סטנדרטיות של שמן דגיםשמן דגים אומגה-3 של Sports Research מכיל ריכוזים חזקים במיוחד של EPA ו-DHA בכל כמוסה של ג\\'לטין דגים (937 מ\"ג). זהבון אלסקי שמקורו במים קרים, שנתפס בר (לא מדגים שגדלו בחווה).*כל כמוסת אומגה-3 של Sports Research מכילה סך הכל 80% חומצות שומן חיוניות (EFAs) מסוג אומגה-3.'"
      ]
     },
     "execution_count": 36,
     "metadata": {},
     "output_type": "execute_result"
    }
   ],
   "source": [
    "description = description.get_text()\n",
    "description"
   ]
  },
  {
   "cell_type": "code",
   "execution_count": 37,
   "metadata": {},
   "outputs": [
    {
     "data": {
      "text/plain": [
       "<a class=\"rating-count\" data-ds-target=\"link\" href=\"https://il.iherb.com/r/sports-research-omega-3-fish-oil-triple-strength-1-250-mg-90-softgels/90284\" title=\"4.7/5 - 33740 ביקורות\"><span>33740</span> ביקורות</a>"
      ]
     },
     "execution_count": 37,
     "metadata": {},
     "output_type": "execute_result"
    }
   ],
   "source": [
    "rating=soup.find('a', attrs={'class':'rating-count'})\n",
    "rating"
   ]
  },
  {
   "cell_type": "code",
   "execution_count": 38,
   "metadata": {},
   "outputs": [
    {
     "data": {
      "text/plain": [
       "'4.7/5 - 33740 ביקורות'"
      ]
     },
     "execution_count": 38,
     "metadata": {},
     "output_type": "execute_result"
    }
   ],
   "source": [
    "rating = rating.get('title')\n",
    "rating"
   ]
  },
  {
   "cell_type": "code",
   "execution_count": 39,
   "metadata": {},
   "outputs": [
    {
     "data": {
      "text/plain": [
       "'33740'"
      ]
     },
     "execution_count": 39,
     "metadata": {},
     "output_type": "execute_result"
    }
   ],
   "source": [
    "review = rating.split()[2]\n",
    "review"
   ]
  },
  {
   "cell_type": "code",
   "execution_count": 40,
   "metadata": {},
   "outputs": [
    {
     "data": {
      "text/plain": [
       "'4.7'"
      ]
     },
     "execution_count": 40,
     "metadata": {},
     "output_type": "execute_result"
    }
   ],
   "source": [
    "rating = rating.split()[0]\n",
    "rating = rating[0:3]\n",
    "rating"
   ]
  },
  {
   "cell_type": "code",
   "execution_count": 41,
   "metadata": {},
   "outputs": [
    {
     "data": {
      "text/plain": [
       "<span class=\"current-item\" data-current-item=\"90 Count\">90 Count</span>"
      ]
     },
     "execution_count": 41,
     "metadata": {},
     "output_type": "execute_result"
    }
   ],
   "source": [
    "quantity=soup.find('span', attrs={'class':'current-item'})\n",
    "quantity"
   ]
  },
  {
   "cell_type": "code",
   "execution_count": 42,
   "metadata": {},
   "outputs": [
    {
     "data": {
      "text/plain": [
       "'90 Count'"
      ]
     },
     "execution_count": 42,
     "metadata": {},
     "output_type": "execute_result"
    }
   ],
   "source": [
    "quantity = quantity.get_text()\n",
    "quantity"
   ]
  },
  {
   "cell_type": "code",
   "execution_count": 43,
   "metadata": {},
   "outputs": [
    {
     "data": {
      "text/plain": [
       "['90']"
      ]
     },
     "execution_count": 43,
     "metadata": {},
     "output_type": "execute_result"
    }
   ],
   "source": [
    "import re\n",
    "quantity = re.findall(r'\\d+', quantity)\n",
    "quantity"
   ]
  },
  {
   "cell_type": "markdown",
   "metadata": {},
   "source": [
    "Let's write functions to get different statistics"
   ]
  },
  {
   "cell_type": "code",
   "execution_count": 44,
   "metadata": {},
   "outputs": [],
   "source": [
    "def getStats(soup, stats):\n",
    "\n",
    "    try:\n",
    "        obj = soup.find('div', attrs={'class':'col-xs-15 col-md-15 price our-price', 'id':'price'})\n",
    "        obj = obj.get_text()\n",
    "        obj = obj.split()[0]\n",
    "        obj = obj.replace('₪', '')\n",
    "    except:\n",
    "        obj=None\n",
    "    \n",
    "    return obj"
   ]
  },
  {
   "cell_type": "code",
   "execution_count": 45,
   "metadata": {},
   "outputs": [],
   "source": [
    "def getStats2(soup, stats):\n",
    "\n",
    "    try:\n",
    "        obj = soup.find('span', attrs={'itemprop': 'name'})\n",
    "        obj = obj.get_text()\n",
    "        obj = obj.replace('\\n', '')\n",
    "    except:\n",
    "        obj=None\n",
    "    \n",
    "    return obj"
   ]
  },
  {
   "cell_type": "code",
   "execution_count": 46,
   "metadata": {},
   "outputs": [],
   "source": [
    "def getStats3(soup, stats):\n",
    "\n",
    "    try:\n",
    "        obj = soup.find('div', attrs={'itemprop':'description'})\n",
    "        obj = obj.get_text()\n",
    "    except:\n",
    "        obj=None\n",
    "    \n",
    "    return obj"
   ]
  },
  {
   "cell_type": "code",
   "execution_count": 47,
   "metadata": {},
   "outputs": [],
   "source": [
    "def getStats4(soup, stats):\n",
    "\n",
    "    try:\n",
    "        obj = soup.find('div',attrs={'class':'product-summary-title', 'itemprop':'name', 'id':'name'})\n",
    "        obj = obj.get_text()\n",
    "        obj = obj.replace('\\n', '')\n",
    "    except:\n",
    "                          \n",
    "        obj=None\n",
    "    \n",
    "    return obj"
   ]
  },
  {
   "cell_type": "code",
   "execution_count": 48,
   "metadata": {},
   "outputs": [],
   "source": [
    "def getStats5(soup, stats):\n",
    "\n",
    "    try:\n",
    "        obj = soup.find('a', attrs={'class':'rating-count'})\n",
    "        obj = obj.get('title')\n",
    "        obj = obj.split()[0]\n",
    "        obj = obj[0:3]\n",
    "    except:\n",
    "        obj=None\n",
    "        \n",
    "    return obj"
   ]
  },
  {
   "cell_type": "code",
   "execution_count": 49,
   "metadata": {},
   "outputs": [],
   "source": [
    "def getStats6(soup, stats):\n",
    "\n",
    "    try:\n",
    "        obj = soup.find('a', attrs={'class':'rating-count'})\n",
    "        obj = obj.get('title')\n",
    "        obj = obj.split()[2]\n",
    "    except:\n",
    "        obj=None\n",
    "        \n",
    "    return obj"
   ]
  },
  {
   "cell_type": "code",
   "execution_count": 50,
   "metadata": {},
   "outputs": [],
   "source": [
    "def getStats7(soup, stats):\n",
    "\n",
    "    try:\n",
    "        obj = soup.find('span', attrs={'class':'current-item'})\n",
    "        obj = obj.get_text()\n",
    "        obj = obj.split()[0]                        \n",
    "    except:\n",
    "        obj=None\n",
    "        \n",
    "    return obj"
   ]
  },
  {
   "cell_type": "code",
   "execution_count": 51,
   "metadata": {},
   "outputs": [
    {
     "name": "stdout",
     "output_type": "stream",
     "text": [
      "Price: 85.88\n",
      "Name:        Sports Research‏, שמן דגים אומגה 3, עוצמה משולשת, 1,250 מ\"ג, 90 כמוסות רכות    \n",
      "Brand:Sports Research\n",
      "Quantity: 90\n",
      "Description:  מיוצר עם AlaskOmega מזהבון בר אלסקי שמן דגים מאושר על ידי IFOS (תכנית תקנים בינלאומית לשמן דגים) בדירוג של 5 כוכבים תוסף תזונה עשוי ללא רכיבים מהונדסים גנטית ללא גלוטן תעודת GMP‏ (תנאי ייצור נאותים) אושר ונבדק על-ידי צד שלישי אושר על ידי MSC (המועצה לשימור ימי) כמאכל ים בר קיימא זיקוק מולקולרי מתקדם ומזוכך מתעלה על הארגון העולמי ל-EPA (חומצה איקוסאפנטאנואית) ו-DHA (חומצה דוקוסהקסנואית) 100% מקורי ומיוצר בארצות הברית כמוסה רכה אחת של שמן דגים אומגה-3 של SR* = 3 כמוסות רכות סטנדרטיות של שמן דגיםשמן דגים אומגה-3 של Sports Research מכיל ריכוזים חזקים במיוחד של EPA ו-DHA בכל כמוסה של ג'לטין דגים (937 מ\"ג). זהבון אלסקי שמקורו במים קרים, שנתפס בר (לא מדגים שגדלו בחווה).*כל כמוסת אומגה-3 של Sports Research מכילה סך הכל 80% חומצות שומן חיוניות (EFAs) מסוג אומגה-3.\n",
      "Rating: 4.7\n",
      "Review: 33740\n"
     ]
    }
   ],
   "source": [
    "price = getStats(soup, stats='price')\n",
    "brand = getStats2(soup, stats='brand')\n",
    "description = getStats3(soup, stats='description')\n",
    "name = getStats4(soup, stats='name')\n",
    "rating = getStats5(soup, stats='rating')\n",
    "review = getStats6(soup, stats='review')\n",
    "quantity = getStats7(soup, stats='quantity')\n",
    "\n",
    "\n",
    "print(\"Price: {}\\nName:{}\\nBrand:{}\\nQuantity: {}\\nDescription: {}\\nRating: {}\\nReview: {}\".format(price, name, brand, quantity, description, rating, review))"
   ]
  },
  {
   "cell_type": "markdown",
   "metadata": {},
   "source": [
    "Let's write a function that returns all the information on the current product"
   ]
  },
  {
   "cell_type": "code",
   "execution_count": 52,
   "metadata": {},
   "outputs": [],
   "source": [
    "def getVitamineData(vitamine_page):\n",
    "    \n",
    "    response = req.get(vitamine_page, headers={'User-Agent': UserAgent().chrome})\n",
    "    \n",
    "    if not response.ok:\n",
    "        \n",
    "        return response.status_code\n",
    "    \n",
    "    html = response.content\n",
    "    soup = bs(html,'html.parser')\n",
    "    \n",
    "    #using previously written functions, we parse the information\n",
    "    price = getStats(soup=soup, stats='price')\n",
    "    brand = getStats2(soup=soup, stats='brand')\n",
    "    description = getStats3(soup=soup, stats='description')\n",
    "    name = getStats4(soup=soup, stats='name')\n",
    "    rating = getStats5(soup=soup, stats='rating')\n",
    "    review = getStats6(soup=soup, stats='review')\n",
    "    quantity = getStats7(soup=soup, stats='quantity')\n",
    "    \n",
    "    #we are compiling a dictionary in which all the received and processed data will be stored\n",
    "    data_row = {'price':price, \n",
    "                'brand':brand, \n",
    "                'description':description, \n",
    "                'name':name,\n",
    "                'rating': rating,\n",
    "                'review': review,\n",
    "                'quantity': quantity}\n",
    "    \n",
    "    return data_row"
   ]
  },
  {
   "cell_type": "code",
   "execution_count": 53,
   "metadata": {},
   "outputs": [
    {
     "data": {
      "text/plain": [
       "{'price': '85.88',\n",
       " 'brand': 'Sports Research',\n",
       " 'description': ' מיוצר עם AlaskOmega מזהבון בר אלסקי שמן דגים מאושר על ידי IFOS (תכנית תקנים בינלאומית לשמן דגים) בדירוג של 5 כוכבים תוסף תזונה עשוי ללא רכיבים מהונדסים גנטית ללא גלוטן תעודת GMP\\u200f (תנאי ייצור נאותים) אושר ונבדק על-ידי צד שלישי אושר על ידי MSC (המועצה לשימור ימי) כמאכל ים בר קיימא זיקוק מולקולרי מתקדם ומזוכך מתעלה על הארגון העולמי ל-EPA (חומצה איקוסאפנטאנואית) ו-DHA (חומצה דוקוסהקסנואית) 100% מקורי ומיוצר בארצות הברית כמוסה רכה אחת של שמן דגים אומגה-3 של SR* = 3 כמוסות רכות סטנדרטיות של שמן דגיםשמן דגים אומגה-3 של Sports Research מכיל ריכוזים חזקים במיוחד של EPA ו-DHA בכל כמוסה של ג\\'לטין דגים (937 מ\"ג). זהבון אלסקי שמקורו במים קרים, שנתפס בר (לא מדגים שגדלו בחווה).*כל כמוסת אומגה-3 של Sports Research מכילה סך הכל 80% חומצות שומן חיוניות (EFAs) מסוג אומגה-3.',\n",
       " 'name': '        Sports Research\\u200f, שמן דגים אומגה 3, עוצמה משולשת, 1,250 מ\"ג, 90 כמוסות רכות    ',\n",
       " 'rating': '4.7',\n",
       " 'review': '33742',\n",
       " 'quantity': '90'}"
      ]
     },
     "execution_count": 53,
     "metadata": {},
     "output_type": "execute_result"
    }
   ],
   "source": [
    "data_row=getVitamineData('https://il.iherb.com/pr/sports-research-omega-3-fish-oil-triple-strength-1-250-mg-90-softgels/90284')\n",
    "data_row"
   ]
  },
  {
   "cell_type": "markdown",
   "metadata": {},
   "source": [
    "Now we can get the final dataframe with the received data"
   ]
  },
  {
   "cell_type": "code",
   "execution_count": 54,
   "metadata": {},
   "outputs": [],
   "source": [
    "final_df = pd.DataFrame()"
   ]
  },
  {
   "cell_type": "code",
   "execution_count": 55,
   "metadata": {},
   "outputs": [],
   "source": [
    "final_df = final_df.append(data_row, ignore_index=True)"
   ]
  },
  {
   "cell_type": "code",
   "execution_count": 56,
   "metadata": {},
   "outputs": [
    {
     "data": {
      "text/html": [
       "<div>\n",
       "<style scoped>\n",
       "    .dataframe tbody tr th:only-of-type {\n",
       "        vertical-align: middle;\n",
       "    }\n",
       "\n",
       "    .dataframe tbody tr th {\n",
       "        vertical-align: top;\n",
       "    }\n",
       "\n",
       "    .dataframe thead th {\n",
       "        text-align: right;\n",
       "    }\n",
       "</style>\n",
       "<table border=\"1\" class=\"dataframe\">\n",
       "  <thead>\n",
       "    <tr style=\"text-align: right;\">\n",
       "      <th></th>\n",
       "      <th>brand</th>\n",
       "      <th>description</th>\n",
       "      <th>name</th>\n",
       "      <th>price</th>\n",
       "      <th>quantity</th>\n",
       "      <th>rating</th>\n",
       "      <th>review</th>\n",
       "    </tr>\n",
       "  </thead>\n",
       "  <tbody>\n",
       "    <tr>\n",
       "      <th>0</th>\n",
       "      <td>Sports Research</td>\n",
       "      <td>מיוצר עם AlaskOmega מזהבון בר אלסקי שמן דגים ...</td>\n",
       "      <td>Sports Research‏, שמן דגים אומגה 3, עו...</td>\n",
       "      <td>85.88</td>\n",
       "      <td>90</td>\n",
       "      <td>4.7</td>\n",
       "      <td>33742</td>\n",
       "    </tr>\n",
       "  </tbody>\n",
       "</table>\n",
       "</div>"
      ],
      "text/plain": [
       "             brand                                        description  \\\n",
       "0  Sports Research   מיוצר עם AlaskOmega מזהבון בר אלסקי שמן דגים ...   \n",
       "\n",
       "                                                name  price quantity rating  \\\n",
       "0          Sports Research‏, שמן דגים אומגה 3, עו...  85.88       90    4.7   \n",
       "\n",
       "  review  \n",
       "0  33742  "
      ]
     },
     "execution_count": 56,
     "metadata": {},
     "output_type": "execute_result"
    }
   ],
   "source": [
    "final_df"
   ]
  },
  {
   "cell_type": "code",
   "execution_count": 57,
   "metadata": {},
   "outputs": [],
   "source": [
    "from tqdm import tqdm_notebook"
   ]
  },
  {
   "cell_type": "code",
   "execution_count": 58,
   "metadata": {},
   "outputs": [
    {
     "data": {
      "text/plain": [
       "['https://il.iherb.com/pr/california-gold-nutrition-immune-4-immune-system-support-60-veggie-capsules/101714',\n",
       " 'https://il.iherb.com/pr/california-gold-nutrition-immune-4-immune-system-support-180-veggie-capsules/101716',\n",
       " 'https://il.iherb.com/pr/california-gold-nutrition-astaxanthin-astalif-pure-icelandic-12-mg-120-veggie-softgels/71684',\n",
       " 'https://il.iherb.com/pr/natural-factors-eye-factors-with-2-mg-lutein-90-capsules/2612',\n",
       " 'https://il.iherb.com/pr/california-gold-nutrition-omega-3-premium-fish-oil-180-epa-120-dha-100-fish-gelatin-softgels/62118',\n",
       " 'https://il.iherb.com/pr/california-gold-nutrition-lutein-with-zeaxanthin-20-mg-60-veggie-softgels/95888',\n",
       " 'https://il.iherb.com/pr/doctor-s-best-lutein-from-optilut-10-mg-120-veggie-caps/4256',\n",
       " 'https://il.iherb.com/pr/doctor-s-best-lutein-with-lutemax-2020-20-mg-180-softgels/58903',\n",
       " 'https://il.iherb.com/pr/california-gold-nutrition-omega-3-premium-fish-oil-180-epa-120-dha-240-fish-gelatin-softgels/86598',\n",
       " 'https://il.iherb.com/pr/now-foods-omega-3-180-epa-120-dha-200-softgels/323',\n",
       " 'https://il.iherb.com/pr/21st-century-healthy-eyes-lutein-and-antioxidants-60-tablets/46724',\n",
       " 'https://il.iherb.com/pr/now-foods-lutein-zeaxanthin-60-softgels/70960',\n",
       " 'https://il.iherb.com/pr/now-foods-nac-600-mg-250-veg-capsules/694',\n",
       " 'https://il.iherb.com/pr/life-extension-super-selenium-complex-vitamin-e-200-mcg-100-vegetarian-capsules/46682',\n",
       " 'https://il.iherb.com/pr/preservision-eye-vitamin-and-mineral-supplement-120-mini-soft-gels/68945',\n",
       " 'https://il.iherb.com/pr/now-foods-astaxanthin-4-mg-60-veggie-softgels/414',\n",
       " 'https://il.iherb.com/pr/now-foods-lutein-double-strength-90-veg-capsules/17596',\n",
       " 'https://il.iherb.com/pr/now-foods-omega-3-180-epa-120-dha-100-softgels/102333',\n",
       " 'https://il.iherb.com/pr/now-foods-ultra-omega-3-500-epa-250-dha-90-enteric-coated-softgels/76073',\n",
       " 'https://il.iherb.com/pr/solgar-bilberry-ginkgo-eyebright-complex-plus-lutein-60-vegetable-capsules/13093',\n",
       " 'https://il.iherb.com/pr/life-extension-macuguard-ocular-support-with-saffron-60-softgels/69065',\n",
       " 'https://il.iherb.com/pr/california-gold-nutrition-astaxanthin-astalif-pure-icelandic-12-mg-30-veggie-softgels/71683',\n",
       " 'https://il.iherb.com/pr/solgar-selenium-yeast-free-100-mcg-100-tablets/48602',\n",
       " 'https://il.iherb.com/pr/now-foods-ultra-omega-3-500-epa-250-dha-180-enteric-coated-softgels/8341']"
      ]
     },
     "execution_count": 58,
     "metadata": {},
     "output_type": "execute_result"
    }
   ],
   "source": [
    "vitamine_links"
   ]
  },
  {
   "cell_type": "code",
   "execution_count": 59,
   "metadata": {},
   "outputs": [],
   "source": [
    "import tqdm"
   ]
  },
  {
   "cell_type": "code",
   "execution_count": 60,
   "metadata": {},
   "outputs": [
    {
     "name": "stderr",
     "output_type": "stream",
     "text": [
      "C:\\Users\\Anzhelika Soldatova\\anaconda3\\lib\\site-packages\\ipykernel_launcher.py:2: TqdmDeprecationWarning: This function will be removed in tqdm==5.0.0\n",
      "Please use `tqdm.notebook.tqdm` instead of `tqdm.tqdm_notebook`\n",
      "  \n"
     ]
    },
    {
     "data": {
      "application/vnd.jupyter.widget-view+json": {
       "model_id": "b80d35428fea4cd483325f1c29d9b7a1",
       "version_major": 2,
       "version_minor": 0
      },
      "text/plain": [
       "HBox(children=(FloatProgress(value=0.0, max=24.0), HTML(value='')))"
      ]
     },
     "metadata": {},
     "output_type": "display_data"
    },
    {
     "name": "stdout",
     "output_type": "stream",
     "text": [
      "\n"
     ]
    }
   ],
   "source": [
    "#let's go through all the products on the page\n",
    "for vitamine_link in tqdm_notebook(vitamine_links):\n",
    "    try: \n",
    "        data_row = getVitamineData(vitamine_link)\n",
    "        final_df = final_df.append(data_row, ignore_index=True)\n",
    "        time.sleep(0.3)\n",
    "    except:\n",
    "        continue"
   ]
  },
  {
   "cell_type": "code",
   "execution_count": 61,
   "metadata": {},
   "outputs": [
    {
     "data": {
      "text/plain": [
       "(25, 7)"
      ]
     },
     "execution_count": 61,
     "metadata": {},
     "output_type": "execute_result"
    }
   ],
   "source": [
    "final_df.drop_duplicates(inplace=True)\n",
    "final_df.shape"
   ]
  },
  {
   "cell_type": "code",
   "execution_count": 62,
   "metadata": {},
   "outputs": [
    {
     "data": {
      "text/html": [
       "<div>\n",
       "<style scoped>\n",
       "    .dataframe tbody tr th:only-of-type {\n",
       "        vertical-align: middle;\n",
       "    }\n",
       "\n",
       "    .dataframe tbody tr th {\n",
       "        vertical-align: top;\n",
       "    }\n",
       "\n",
       "    .dataframe thead th {\n",
       "        text-align: right;\n",
       "    }\n",
       "</style>\n",
       "<table border=\"1\" class=\"dataframe\">\n",
       "  <thead>\n",
       "    <tr style=\"text-align: right;\">\n",
       "      <th></th>\n",
       "      <th>brand</th>\n",
       "      <th>description</th>\n",
       "      <th>name</th>\n",
       "      <th>price</th>\n",
       "      <th>quantity</th>\n",
       "      <th>rating</th>\n",
       "      <th>review</th>\n",
       "    </tr>\n",
       "  </thead>\n",
       "  <tbody>\n",
       "    <tr>\n",
       "      <th>0</th>\n",
       "      <td>Sports Research</td>\n",
       "      <td>מיוצר עם AlaskOmega מזהבון בר אלסקי שמן דגים ...</td>\n",
       "      <td>Sports Research‏, שמן דגים אומגה 3, עו...</td>\n",
       "      <td>85.88</td>\n",
       "      <td>90</td>\n",
       "      <td>4.7</td>\n",
       "      <td>33742</td>\n",
       "    </tr>\n",
       "    <tr>\n",
       "      <th>1</th>\n",
       "      <td>California Gold Nutrition</td>\n",
       "      <td>California Gold Nutrition Immune 4 חיזוק המערכ...</td>\n",
       "      <td>California Gold Nutrition‏, Immune4, ת...</td>\n",
       "      <td>None</td>\n",
       "      <td>60</td>\n",
       "      <td>4.8</td>\n",
       "      <td>97570</td>\n",
       "    </tr>\n",
       "    <tr>\n",
       "      <th>2</th>\n",
       "      <td>California Gold Nutrition</td>\n",
       "      <td>California Gold Nutrition Immune 4חיזוק המערכת...</td>\n",
       "      <td>California Gold Nutrition‏, Immune 4, ...</td>\n",
       "      <td>None</td>\n",
       "      <td>180</td>\n",
       "      <td>4.8</td>\n",
       "      <td>97570</td>\n",
       "    </tr>\n",
       "    <tr>\n",
       "      <th>3</th>\n",
       "      <td>California Gold Nutrition</td>\n",
       "      <td>אסטקסנטין מבית California Gold NutritionAstal...</td>\n",
       "      <td>California Gold Nutrition‏, אסטקסנטין ...</td>\n",
       "      <td>None</td>\n",
       "      <td>120</td>\n",
       "      <td>4.6</td>\n",
       "      <td>12439</td>\n",
       "    </tr>\n",
       "    <tr>\n",
       "      <th>4</th>\n",
       "      <td>Natural Factors</td>\n",
       "      <td>תוסף תזונהתפקוד תקין של העיןטוהר ועוצמה מובטחי...</td>\n",
       "      <td>Natural Factors‏, תוסף תזונה Eye Facto...</td>\n",
       "      <td>None</td>\n",
       "      <td>None</td>\n",
       "      <td>4.5</td>\n",
       "      <td>6795</td>\n",
       "    </tr>\n",
       "    <tr>\n",
       "      <th>5</th>\n",
       "      <td>California Gold Nutrition</td>\n",
       "      <td>California Gold Nutrition®️שמן דגים עם אומגה 3...</td>\n",
       "      <td>California Gold Nutrition‏, אומגה 3, ש...</td>\n",
       "      <td>24.57</td>\n",
       "      <td>100</td>\n",
       "      <td>4.8</td>\n",
       "      <td>195531</td>\n",
       "    </tr>\n",
       "    <tr>\n",
       "      <th>6</th>\n",
       "      <td>California Gold Nutrition</td>\n",
       "      <td>לוטאין עם זאקסנטין, 20 מ\"ג מבית California Gol...</td>\n",
       "      <td>California Gold Nutrition‏, לוטאין עם ...</td>\n",
       "      <td>24.57</td>\n",
       "      <td>20</td>\n",
       "      <td>4.7</td>\n",
       "      <td>15975</td>\n",
       "    </tr>\n",
       "    <tr>\n",
       "      <th>7</th>\n",
       "      <td>Doctor's Best</td>\n",
       "      <td>Science-Based Nutrition™‎מיוצר מ-®OptiLut, תמצ...</td>\n",
       "      <td>Doctor's Best‏, לוטאין מ-OptiLut, ‏‏10...</td>\n",
       "      <td>44.03</td>\n",
       "      <td>None</td>\n",
       "      <td>4.5</td>\n",
       "      <td>10111</td>\n",
       "    </tr>\n",
       "    <tr>\n",
       "      <th>8</th>\n",
       "      <td>Doctor's Best</td>\n",
       "      <td>Science-Based Nutrition™‎לוטאין &amp; וזאקסנטיןמסי...</td>\n",
       "      <td>Doctor's Best‏, לוטאין עם Lutemax 2020...</td>\n",
       "      <td>99.84</td>\n",
       "      <td>180</td>\n",
       "      <td>4.6</td>\n",
       "      <td>7302</td>\n",
       "    </tr>\n",
       "    <tr>\n",
       "      <th>9</th>\n",
       "      <td>California Gold Nutrition</td>\n",
       "      <td>California Gold Nutrition®️ שמן דגים עם אומגה ...</td>\n",
       "      <td>California Gold Nutrition‏, אומגה 3, ש...</td>\n",
       "      <td>52.66</td>\n",
       "      <td>240</td>\n",
       "      <td>4.8</td>\n",
       "      <td>195531</td>\n",
       "    </tr>\n",
       "  </tbody>\n",
       "</table>\n",
       "</div>"
      ],
      "text/plain": [
       "                       brand  \\\n",
       "0            Sports Research   \n",
       "1  California Gold Nutrition   \n",
       "2  California Gold Nutrition   \n",
       "3  California Gold Nutrition   \n",
       "4            Natural Factors   \n",
       "5  California Gold Nutrition   \n",
       "6  California Gold Nutrition   \n",
       "7              Doctor's Best   \n",
       "8              Doctor's Best   \n",
       "9  California Gold Nutrition   \n",
       "\n",
       "                                         description  \\\n",
       "0   מיוצר עם AlaskOmega מזהבון בר אלסקי שמן דגים ...   \n",
       "1  California Gold Nutrition Immune 4 חיזוק המערכ...   \n",
       "2  California Gold Nutrition Immune 4חיזוק המערכת...   \n",
       "3   אסטקסנטין מבית California Gold NutritionAstal...   \n",
       "4  תוסף תזונהתפקוד תקין של העיןטוהר ועוצמה מובטחי...   \n",
       "5  California Gold Nutrition®️שמן דגים עם אומגה 3...   \n",
       "6  לוטאין עם זאקסנטין, 20 מ\"ג מבית California Gol...   \n",
       "7  Science-Based Nutrition™‎מיוצר מ-®OptiLut, תמצ...   \n",
       "8  Science-Based Nutrition™‎לוטאין & וזאקסנטיןמסי...   \n",
       "9  California Gold Nutrition®️ שמן דגים עם אומגה ...   \n",
       "\n",
       "                                                name  price quantity rating  \\\n",
       "0          Sports Research‏, שמן דגים אומגה 3, עו...  85.88       90    4.7   \n",
       "1          California Gold Nutrition‏, Immune4, ת...   None       60    4.8   \n",
       "2          California Gold Nutrition‏, Immune 4, ...   None      180    4.8   \n",
       "3          California Gold Nutrition‏, אסטקסנטין ...   None      120    4.6   \n",
       "4          Natural Factors‏, תוסף תזונה Eye Facto...   None     None    4.5   \n",
       "5          California Gold Nutrition‏, אומגה 3, ש...  24.57      100    4.8   \n",
       "6          California Gold Nutrition‏, לוטאין עם ...  24.57       20    4.7   \n",
       "7          Doctor's Best‏, לוטאין מ-OptiLut, ‏‏10...  44.03     None    4.5   \n",
       "8          Doctor's Best‏, לוטאין עם Lutemax 2020...  99.84      180    4.6   \n",
       "9          California Gold Nutrition‏, אומגה 3, ש...  52.66      240    4.8   \n",
       "\n",
       "   review  \n",
       "0   33742  \n",
       "1   97570  \n",
       "2   97570  \n",
       "3   12439  \n",
       "4    6795  \n",
       "5  195531  \n",
       "6   15975  \n",
       "7   10111  \n",
       "8    7302  \n",
       "9  195531  "
      ]
     },
     "execution_count": 62,
     "metadata": {},
     "output_type": "execute_result"
    }
   ],
   "source": [
    "final_df.head(10) "
   ]
  },
  {
   "cell_type": "code",
   "execution_count": 63,
   "metadata": {},
   "outputs": [
    {
     "name": "stdout",
     "output_type": "stream",
     "text": [
      "<class 'pandas.core.frame.DataFrame'>\n",
      "Int64Index: 25 entries, 0 to 24\n",
      "Data columns (total 7 columns):\n",
      " #   Column       Non-Null Count  Dtype \n",
      "---  ------       --------------  ----- \n",
      " 0   brand        25 non-null     object\n",
      " 1   description  25 non-null     object\n",
      " 2   name         25 non-null     object\n",
      " 3   price        20 non-null     object\n",
      " 4   quantity     15 non-null     object\n",
      " 5   rating       25 non-null     object\n",
      " 6   review       25 non-null     object\n",
      "dtypes: object(7)\n",
      "memory usage: 1.6+ KB\n"
     ]
    }
   ],
   "source": [
    "final_df.info()"
   ]
  },
  {
   "cell_type": "code",
   "execution_count": 64,
   "metadata": {},
   "outputs": [
    {
     "data": {
      "text/plain": [
       "Index(['brand', 'description', 'name', 'price', 'quantity', 'rating',\n",
       "       'review'],\n",
       "      dtype='object')"
      ]
     },
     "execution_count": 64,
     "metadata": {},
     "output_type": "execute_result"
    }
   ],
   "source": [
    "final_df.columns"
   ]
  },
  {
   "cell_type": "code",
   "execution_count": 65,
   "metadata": {
    "scrolled": true
   },
   "outputs": [],
   "source": [
    "# final_df = pd.DataFrame(columns=['brand', 'description', 'name', 'price', 'quantity', 'rating', 'review'])\n",
    "# #let's go through all the pages of products in this category\n",
    "# for page_number in tqdm.notebook.tqdm(range(80), desc='Pages'):     \n",
    "    \n",
    "#     vitamine_links = getPageLinks(page_number) \n",
    "#     for vitamine_link in tqdm.notebook.tqdm(vitamine_links, desc='Vitamine', leave=False):\n",
    "        \n",
    "#         for i in range(3):\n",
    "#             try:\n",
    "                \n",
    "#                 data_row = getVitamineData(vitamine_link)         \n",
    "#                 final_df = final_df.append(data_row, ignore_index=True)  \n",
    "                \n",
    "#                 break\n",
    "                \n",
    "#             except:\n",
    "                \n",
    "#                 print('AHTUNG! parsing once again:', vitamine_link)\n",
    "#                 continue\n",
    "                "
   ]
  },
  {
   "cell_type": "code",
   "execution_count": 66,
   "metadata": {},
   "outputs": [],
   "source": [
    "def checkIP():\n",
    "    ip = req.get('http://checkip.dyndns.org').content\n",
    "    soup = bs(ip, 'html.parser')\n",
    "    print(soup.find('body').text)"
   ]
  },
  {
   "cell_type": "code",
   "execution_count": 67,
   "metadata": {},
   "outputs": [
    {
     "name": "stdout",
     "output_type": "stream",
     "text": [
      "Current IP Address: 83.130.68.175\n"
     ]
    }
   ],
   "source": [
    "checkIP()"
   ]
  },
  {
   "cell_type": "code",
   "execution_count": 69,
   "metadata": {},
   "outputs": [
    {
     "data": {
      "application/vnd.jupyter.widget-view+json": {
       "model_id": "2dcd3e0ef6e2429488203b6f8ade6221",
       "version_major": 2,
       "version_minor": 0
      },
      "text/plain": [
       "HBox(children=(FloatProgress(value=0.0, description='Pages', max=80.0, style=ProgressStyle(description_width='…"
      ]
     },
     "metadata": {},
     "output_type": "display_data"
    },
    {
     "data": {
      "application/vnd.jupyter.widget-view+json": {
       "model_id": "",
       "version_major": 2,
       "version_minor": 0
      },
      "text/plain": [
       "HBox(children=(FloatProgress(value=1.0, bar_style='info', description='Vitamine', max=1.0, style=ProgressStyle…"
      ]
     },
     "metadata": {},
     "output_type": "display_data"
    },
    {
     "data": {
      "application/vnd.jupyter.widget-view+json": {
       "model_id": "",
       "version_major": 2,
       "version_minor": 0
      },
      "text/plain": [
       "HBox(children=(FloatProgress(value=0.0, description='Vitamine', max=24.0, style=ProgressStyle(description_widt…"
      ]
     },
     "metadata": {},
     "output_type": "display_data"
    },
    {
     "data": {
      "application/vnd.jupyter.widget-view+json": {
       "model_id": "",
       "version_major": 2,
       "version_minor": 0
      },
      "text/plain": [
       "HBox(children=(FloatProgress(value=0.0, description='Vitamine', max=24.0, style=ProgressStyle(description_widt…"
      ]
     },
     "metadata": {},
     "output_type": "display_data"
    },
    {
     "data": {
      "application/vnd.jupyter.widget-view+json": {
       "model_id": "",
       "version_major": 2,
       "version_minor": 0
      },
      "text/plain": [
       "HBox(children=(FloatProgress(value=0.0, description='Vitamine', max=24.0, style=ProgressStyle(description_widt…"
      ]
     },
     "metadata": {},
     "output_type": "display_data"
    },
    {
     "data": {
      "application/vnd.jupyter.widget-view+json": {
       "model_id": "",
       "version_major": 2,
       "version_minor": 0
      },
      "text/plain": [
       "HBox(children=(FloatProgress(value=0.0, description='Vitamine', max=24.0, style=ProgressStyle(description_widt…"
      ]
     },
     "metadata": {},
     "output_type": "display_data"
    },
    {
     "data": {
      "application/vnd.jupyter.widget-view+json": {
       "model_id": "",
       "version_major": 2,
       "version_minor": 0
      },
      "text/plain": [
       "HBox(children=(FloatProgress(value=0.0, description='Vitamine', max=24.0, style=ProgressStyle(description_widt…"
      ]
     },
     "metadata": {},
     "output_type": "display_data"
    },
    {
     "data": {
      "application/vnd.jupyter.widget-view+json": {
       "model_id": "",
       "version_major": 2,
       "version_minor": 0
      },
      "text/plain": [
       "HBox(children=(FloatProgress(value=0.0, description='Vitamine', max=24.0, style=ProgressStyle(description_widt…"
      ]
     },
     "metadata": {},
     "output_type": "display_data"
    },
    {
     "data": {
      "application/vnd.jupyter.widget-view+json": {
       "model_id": "",
       "version_major": 2,
       "version_minor": 0
      },
      "text/plain": [
       "HBox(children=(FloatProgress(value=0.0, description='Vitamine', max=24.0, style=ProgressStyle(description_widt…"
      ]
     },
     "metadata": {},
     "output_type": "display_data"
    },
    {
     "data": {
      "application/vnd.jupyter.widget-view+json": {
       "model_id": "",
       "version_major": 2,
       "version_minor": 0
      },
      "text/plain": [
       "HBox(children=(FloatProgress(value=0.0, description='Vitamine', max=24.0, style=ProgressStyle(description_widt…"
      ]
     },
     "metadata": {},
     "output_type": "display_data"
    },
    {
     "data": {
      "application/vnd.jupyter.widget-view+json": {
       "model_id": "",
       "version_major": 2,
       "version_minor": 0
      },
      "text/plain": [
       "HBox(children=(FloatProgress(value=0.0, description='Vitamine', max=24.0, style=ProgressStyle(description_widt…"
      ]
     },
     "metadata": {},
     "output_type": "display_data"
    },
    {
     "data": {
      "application/vnd.jupyter.widget-view+json": {
       "model_id": "",
       "version_major": 2,
       "version_minor": 0
      },
      "text/plain": [
       "HBox(children=(FloatProgress(value=0.0, description='Vitamine', max=24.0, style=ProgressStyle(description_widt…"
      ]
     },
     "metadata": {},
     "output_type": "display_data"
    },
    {
     "name": "stdout",
     "output_type": "stream",
     "text": [
      "(240, 7)\n"
     ]
    },
    {
     "data": {
      "application/vnd.jupyter.widget-view+json": {
       "model_id": "",
       "version_major": 2,
       "version_minor": 0
      },
      "text/plain": [
       "HBox(children=(FloatProgress(value=0.0, description='Vitamine', max=24.0, style=ProgressStyle(description_widt…"
      ]
     },
     "metadata": {},
     "output_type": "display_data"
    },
    {
     "name": "stdout",
     "output_type": "stream",
     "text": [
      "(264, 7)\n"
     ]
    },
    {
     "data": {
      "application/vnd.jupyter.widget-view+json": {
       "model_id": "",
       "version_major": 2,
       "version_minor": 0
      },
      "text/plain": [
       "HBox(children=(FloatProgress(value=0.0, description='Vitamine', max=24.0, style=ProgressStyle(description_widt…"
      ]
     },
     "metadata": {},
     "output_type": "display_data"
    },
    {
     "name": "stdout",
     "output_type": "stream",
     "text": [
      "(288, 7)\n"
     ]
    },
    {
     "data": {
      "application/vnd.jupyter.widget-view+json": {
       "model_id": "",
       "version_major": 2,
       "version_minor": 0
      },
      "text/plain": [
       "HBox(children=(FloatProgress(value=0.0, description='Vitamine', max=24.0, style=ProgressStyle(description_widt…"
      ]
     },
     "metadata": {},
     "output_type": "display_data"
    },
    {
     "name": "stdout",
     "output_type": "stream",
     "text": [
      "(312, 7)\n"
     ]
    },
    {
     "data": {
      "application/vnd.jupyter.widget-view+json": {
       "model_id": "",
       "version_major": 2,
       "version_minor": 0
      },
      "text/plain": [
       "HBox(children=(FloatProgress(value=0.0, description='Vitamine', max=24.0, style=ProgressStyle(description_widt…"
      ]
     },
     "metadata": {},
     "output_type": "display_data"
    },
    {
     "name": "stdout",
     "output_type": "stream",
     "text": [
      "(336, 7)\n"
     ]
    },
    {
     "data": {
      "application/vnd.jupyter.widget-view+json": {
       "model_id": "",
       "version_major": 2,
       "version_minor": 0
      },
      "text/plain": [
       "HBox(children=(FloatProgress(value=0.0, description='Vitamine', max=24.0, style=ProgressStyle(description_widt…"
      ]
     },
     "metadata": {},
     "output_type": "display_data"
    },
    {
     "name": "stdout",
     "output_type": "stream",
     "text": [
      "(360, 7)\n"
     ]
    },
    {
     "data": {
      "application/vnd.jupyter.widget-view+json": {
       "model_id": "",
       "version_major": 2,
       "version_minor": 0
      },
      "text/plain": [
       "HBox(children=(FloatProgress(value=0.0, description='Vitamine', max=24.0, style=ProgressStyle(description_widt…"
      ]
     },
     "metadata": {},
     "output_type": "display_data"
    },
    {
     "name": "stdout",
     "output_type": "stream",
     "text": [
      "(384, 7)\n"
     ]
    },
    {
     "data": {
      "application/vnd.jupyter.widget-view+json": {
       "model_id": "",
       "version_major": 2,
       "version_minor": 0
      },
      "text/plain": [
       "HBox(children=(FloatProgress(value=0.0, description='Vitamine', max=24.0, style=ProgressStyle(description_widt…"
      ]
     },
     "metadata": {},
     "output_type": "display_data"
    },
    {
     "name": "stdout",
     "output_type": "stream",
     "text": [
      "(408, 7)\n"
     ]
    },
    {
     "data": {
      "application/vnd.jupyter.widget-view+json": {
       "model_id": "",
       "version_major": 2,
       "version_minor": 0
      },
      "text/plain": [
       "HBox(children=(FloatProgress(value=0.0, description='Vitamine', max=24.0, style=ProgressStyle(description_widt…"
      ]
     },
     "metadata": {},
     "output_type": "display_data"
    },
    {
     "name": "stdout",
     "output_type": "stream",
     "text": [
      "(432, 7)\n"
     ]
    },
    {
     "data": {
      "application/vnd.jupyter.widget-view+json": {
       "model_id": "",
       "version_major": 2,
       "version_minor": 0
      },
      "text/plain": [
       "HBox(children=(FloatProgress(value=0.0, description='Vitamine', max=24.0, style=ProgressStyle(description_widt…"
      ]
     },
     "metadata": {},
     "output_type": "display_data"
    },
    {
     "name": "stdout",
     "output_type": "stream",
     "text": [
      "(456, 7)\n"
     ]
    },
    {
     "data": {
      "application/vnd.jupyter.widget-view+json": {
       "model_id": "",
       "version_major": 2,
       "version_minor": 0
      },
      "text/plain": [
       "HBox(children=(FloatProgress(value=0.0, description='Vitamine', max=24.0, style=ProgressStyle(description_widt…"
      ]
     },
     "metadata": {},
     "output_type": "display_data"
    },
    {
     "name": "stdout",
     "output_type": "stream",
     "text": [
      "(480, 7)\n"
     ]
    },
    {
     "data": {
      "application/vnd.jupyter.widget-view+json": {
       "model_id": "",
       "version_major": 2,
       "version_minor": 0
      },
      "text/plain": [
       "HBox(children=(FloatProgress(value=0.0, description='Vitamine', max=24.0, style=ProgressStyle(description_widt…"
      ]
     },
     "metadata": {},
     "output_type": "display_data"
    },
    {
     "name": "stdout",
     "output_type": "stream",
     "text": [
      "(504, 7)\n"
     ]
    },
    {
     "data": {
      "application/vnd.jupyter.widget-view+json": {
       "model_id": "",
       "version_major": 2,
       "version_minor": 0
      },
      "text/plain": [
       "HBox(children=(FloatProgress(value=0.0, description='Vitamine', max=24.0, style=ProgressStyle(description_widt…"
      ]
     },
     "metadata": {},
     "output_type": "display_data"
    },
    {
     "name": "stdout",
     "output_type": "stream",
     "text": [
      "(528, 7)\n"
     ]
    },
    {
     "data": {
      "application/vnd.jupyter.widget-view+json": {
       "model_id": "",
       "version_major": 2,
       "version_minor": 0
      },
      "text/plain": [
       "HBox(children=(FloatProgress(value=0.0, description='Vitamine', max=24.0, style=ProgressStyle(description_widt…"
      ]
     },
     "metadata": {},
     "output_type": "display_data"
    },
    {
     "name": "stdout",
     "output_type": "stream",
     "text": [
      "(552, 7)\n"
     ]
    },
    {
     "data": {
      "application/vnd.jupyter.widget-view+json": {
       "model_id": "",
       "version_major": 2,
       "version_minor": 0
      },
      "text/plain": [
       "HBox(children=(FloatProgress(value=0.0, description='Vitamine', max=24.0, style=ProgressStyle(description_widt…"
      ]
     },
     "metadata": {},
     "output_type": "display_data"
    },
    {
     "name": "stdout",
     "output_type": "stream",
     "text": [
      "(576, 7)\n"
     ]
    },
    {
     "data": {
      "application/vnd.jupyter.widget-view+json": {
       "model_id": "",
       "version_major": 2,
       "version_minor": 0
      },
      "text/plain": [
       "HBox(children=(FloatProgress(value=0.0, description='Vitamine', max=24.0, style=ProgressStyle(description_widt…"
      ]
     },
     "metadata": {},
     "output_type": "display_data"
    },
    {
     "name": "stdout",
     "output_type": "stream",
     "text": [
      "(600, 7)\n"
     ]
    },
    {
     "data": {
      "application/vnd.jupyter.widget-view+json": {
       "model_id": "",
       "version_major": 2,
       "version_minor": 0
      },
      "text/plain": [
       "HBox(children=(FloatProgress(value=0.0, description='Vitamine', max=24.0, style=ProgressStyle(description_widt…"
      ]
     },
     "metadata": {},
     "output_type": "display_data"
    },
    {
     "name": "stdout",
     "output_type": "stream",
     "text": [
      "(624, 7)\n"
     ]
    },
    {
     "data": {
      "application/vnd.jupyter.widget-view+json": {
       "model_id": "",
       "version_major": 2,
       "version_minor": 0
      },
      "text/plain": [
       "HBox(children=(FloatProgress(value=0.0, description='Vitamine', max=24.0, style=ProgressStyle(description_widt…"
      ]
     },
     "metadata": {},
     "output_type": "display_data"
    },
    {
     "name": "stdout",
     "output_type": "stream",
     "text": [
      "(648, 7)\n"
     ]
    },
    {
     "data": {
      "application/vnd.jupyter.widget-view+json": {
       "model_id": "",
       "version_major": 2,
       "version_minor": 0
      },
      "text/plain": [
       "HBox(children=(FloatProgress(value=0.0, description='Vitamine', max=24.0, style=ProgressStyle(description_widt…"
      ]
     },
     "metadata": {},
     "output_type": "display_data"
    },
    {
     "name": "stdout",
     "output_type": "stream",
     "text": [
      "(672, 7)\n"
     ]
    },
    {
     "data": {
      "application/vnd.jupyter.widget-view+json": {
       "model_id": "",
       "version_major": 2,
       "version_minor": 0
      },
      "text/plain": [
       "HBox(children=(FloatProgress(value=0.0, description='Vitamine', max=24.0, style=ProgressStyle(description_widt…"
      ]
     },
     "metadata": {},
     "output_type": "display_data"
    },
    {
     "name": "stdout",
     "output_type": "stream",
     "text": [
      "(696, 7)\n"
     ]
    },
    {
     "data": {
      "application/vnd.jupyter.widget-view+json": {
       "model_id": "",
       "version_major": 2,
       "version_minor": 0
      },
      "text/plain": [
       "HBox(children=(FloatProgress(value=0.0, description='Vitamine', max=24.0, style=ProgressStyle(description_widt…"
      ]
     },
     "metadata": {},
     "output_type": "display_data"
    },
    {
     "name": "stdout",
     "output_type": "stream",
     "text": [
      "(720, 7)\n"
     ]
    },
    {
     "data": {
      "application/vnd.jupyter.widget-view+json": {
       "model_id": "",
       "version_major": 2,
       "version_minor": 0
      },
      "text/plain": [
       "HBox(children=(FloatProgress(value=0.0, description='Vitamine', max=24.0, style=ProgressStyle(description_widt…"
      ]
     },
     "metadata": {},
     "output_type": "display_data"
    },
    {
     "name": "stdout",
     "output_type": "stream",
     "text": [
      "(744, 7)\n"
     ]
    },
    {
     "data": {
      "application/vnd.jupyter.widget-view+json": {
       "model_id": "",
       "version_major": 2,
       "version_minor": 0
      },
      "text/plain": [
       "HBox(children=(FloatProgress(value=0.0, description='Vitamine', max=24.0, style=ProgressStyle(description_widt…"
      ]
     },
     "metadata": {},
     "output_type": "display_data"
    },
    {
     "name": "stdout",
     "output_type": "stream",
     "text": [
      "(768, 7)\n"
     ]
    },
    {
     "data": {
      "application/vnd.jupyter.widget-view+json": {
       "model_id": "",
       "version_major": 2,
       "version_minor": 0
      },
      "text/plain": [
       "HBox(children=(FloatProgress(value=0.0, description='Vitamine', max=24.0, style=ProgressStyle(description_widt…"
      ]
     },
     "metadata": {},
     "output_type": "display_data"
    },
    {
     "name": "stdout",
     "output_type": "stream",
     "text": [
      "(792, 7)\n"
     ]
    },
    {
     "data": {
      "application/vnd.jupyter.widget-view+json": {
       "model_id": "",
       "version_major": 2,
       "version_minor": 0
      },
      "text/plain": [
       "HBox(children=(FloatProgress(value=0.0, description='Vitamine', max=24.0, style=ProgressStyle(description_widt…"
      ]
     },
     "metadata": {},
     "output_type": "display_data"
    },
    {
     "name": "stdout",
     "output_type": "stream",
     "text": [
      "(816, 7)\n"
     ]
    },
    {
     "data": {
      "application/vnd.jupyter.widget-view+json": {
       "model_id": "",
       "version_major": 2,
       "version_minor": 0
      },
      "text/plain": [
       "HBox(children=(FloatProgress(value=0.0, description='Vitamine', max=24.0, style=ProgressStyle(description_widt…"
      ]
     },
     "metadata": {},
     "output_type": "display_data"
    },
    {
     "name": "stdout",
     "output_type": "stream",
     "text": [
      "(840, 7)\n"
     ]
    },
    {
     "data": {
      "application/vnd.jupyter.widget-view+json": {
       "model_id": "",
       "version_major": 2,
       "version_minor": 0
      },
      "text/plain": [
       "HBox(children=(FloatProgress(value=0.0, description='Vitamine', max=24.0, style=ProgressStyle(description_widt…"
      ]
     },
     "metadata": {},
     "output_type": "display_data"
    },
    {
     "name": "stdout",
     "output_type": "stream",
     "text": [
      "(864, 7)\n"
     ]
    },
    {
     "data": {
      "application/vnd.jupyter.widget-view+json": {
       "model_id": "",
       "version_major": 2,
       "version_minor": 0
      },
      "text/plain": [
       "HBox(children=(FloatProgress(value=0.0, description='Vitamine', max=24.0, style=ProgressStyle(description_widt…"
      ]
     },
     "metadata": {},
     "output_type": "display_data"
    },
    {
     "name": "stdout",
     "output_type": "stream",
     "text": [
      "(888, 7)\n"
     ]
    },
    {
     "data": {
      "application/vnd.jupyter.widget-view+json": {
       "model_id": "",
       "version_major": 2,
       "version_minor": 0
      },
      "text/plain": [
       "HBox(children=(FloatProgress(value=0.0, description='Vitamine', max=24.0, style=ProgressStyle(description_widt…"
      ]
     },
     "metadata": {},
     "output_type": "display_data"
    },
    {
     "name": "stdout",
     "output_type": "stream",
     "text": [
      "(912, 7)\n"
     ]
    },
    {
     "data": {
      "application/vnd.jupyter.widget-view+json": {
       "model_id": "",
       "version_major": 2,
       "version_minor": 0
      },
      "text/plain": [
       "HBox(children=(FloatProgress(value=0.0, description='Vitamine', max=24.0, style=ProgressStyle(description_widt…"
      ]
     },
     "metadata": {},
     "output_type": "display_data"
    },
    {
     "name": "stdout",
     "output_type": "stream",
     "text": [
      "(936, 7)\n"
     ]
    },
    {
     "data": {
      "application/vnd.jupyter.widget-view+json": {
       "model_id": "",
       "version_major": 2,
       "version_minor": 0
      },
      "text/plain": [
       "HBox(children=(FloatProgress(value=0.0, description='Vitamine', max=24.0, style=ProgressStyle(description_widt…"
      ]
     },
     "metadata": {},
     "output_type": "display_data"
    },
    {
     "name": "stdout",
     "output_type": "stream",
     "text": [
      "(960, 7)\n"
     ]
    },
    {
     "data": {
      "application/vnd.jupyter.widget-view+json": {
       "model_id": "",
       "version_major": 2,
       "version_minor": 0
      },
      "text/plain": [
       "HBox(children=(FloatProgress(value=0.0, description='Vitamine', max=24.0, style=ProgressStyle(description_widt…"
      ]
     },
     "metadata": {},
     "output_type": "display_data"
    },
    {
     "name": "stdout",
     "output_type": "stream",
     "text": [
      "(984, 7)\n"
     ]
    },
    {
     "data": {
      "application/vnd.jupyter.widget-view+json": {
       "model_id": "",
       "version_major": 2,
       "version_minor": 0
      },
      "text/plain": [
       "HBox(children=(FloatProgress(value=0.0, description='Vitamine', max=24.0, style=ProgressStyle(description_widt…"
      ]
     },
     "metadata": {},
     "output_type": "display_data"
    },
    {
     "name": "stdout",
     "output_type": "stream",
     "text": [
      "(1008, 7)\n"
     ]
    },
    {
     "data": {
      "application/vnd.jupyter.widget-view+json": {
       "model_id": "",
       "version_major": 2,
       "version_minor": 0
      },
      "text/plain": [
       "HBox(children=(FloatProgress(value=0.0, description='Vitamine', max=24.0, style=ProgressStyle(description_widt…"
      ]
     },
     "metadata": {},
     "output_type": "display_data"
    },
    {
     "name": "stdout",
     "output_type": "stream",
     "text": [
      "(1032, 7)\n"
     ]
    },
    {
     "data": {
      "application/vnd.jupyter.widget-view+json": {
       "model_id": "",
       "version_major": 2,
       "version_minor": 0
      },
      "text/plain": [
       "HBox(children=(FloatProgress(value=0.0, description='Vitamine', max=24.0, style=ProgressStyle(description_widt…"
      ]
     },
     "metadata": {},
     "output_type": "display_data"
    },
    {
     "name": "stdout",
     "output_type": "stream",
     "text": [
      "(1056, 7)\n"
     ]
    },
    {
     "data": {
      "application/vnd.jupyter.widget-view+json": {
       "model_id": "",
       "version_major": 2,
       "version_minor": 0
      },
      "text/plain": [
       "HBox(children=(FloatProgress(value=0.0, description='Vitamine', max=24.0, style=ProgressStyle(description_widt…"
      ]
     },
     "metadata": {},
     "output_type": "display_data"
    },
    {
     "name": "stdout",
     "output_type": "stream",
     "text": [
      "(1080, 7)\n"
     ]
    },
    {
     "data": {
      "application/vnd.jupyter.widget-view+json": {
       "model_id": "",
       "version_major": 2,
       "version_minor": 0
      },
      "text/plain": [
       "HBox(children=(FloatProgress(value=0.0, description='Vitamine', max=24.0, style=ProgressStyle(description_widt…"
      ]
     },
     "metadata": {},
     "output_type": "display_data"
    },
    {
     "name": "stdout",
     "output_type": "stream",
     "text": [
      "(1104, 7)\n"
     ]
    },
    {
     "data": {
      "application/vnd.jupyter.widget-view+json": {
       "model_id": "",
       "version_major": 2,
       "version_minor": 0
      },
      "text/plain": [
       "HBox(children=(FloatProgress(value=0.0, description='Vitamine', max=24.0, style=ProgressStyle(description_widt…"
      ]
     },
     "metadata": {},
     "output_type": "display_data"
    },
    {
     "name": "stdout",
     "output_type": "stream",
     "text": [
      "(1128, 7)\n"
     ]
    },
    {
     "data": {
      "application/vnd.jupyter.widget-view+json": {
       "model_id": "",
       "version_major": 2,
       "version_minor": 0
      },
      "text/plain": [
       "HBox(children=(FloatProgress(value=0.0, description='Vitamine', max=24.0, style=ProgressStyle(description_widt…"
      ]
     },
     "metadata": {},
     "output_type": "display_data"
    },
    {
     "name": "stdout",
     "output_type": "stream",
     "text": [
      "(1152, 7)\n"
     ]
    },
    {
     "data": {
      "application/vnd.jupyter.widget-view+json": {
       "model_id": "",
       "version_major": 2,
       "version_minor": 0
      },
      "text/plain": [
       "HBox(children=(FloatProgress(value=0.0, description='Vitamine', max=24.0, style=ProgressStyle(description_widt…"
      ]
     },
     "metadata": {},
     "output_type": "display_data"
    },
    {
     "name": "stdout",
     "output_type": "stream",
     "text": [
      "(1176, 7)\n"
     ]
    },
    {
     "data": {
      "application/vnd.jupyter.widget-view+json": {
       "model_id": "",
       "version_major": 2,
       "version_minor": 0
      },
      "text/plain": [
       "HBox(children=(FloatProgress(value=0.0, description='Vitamine', max=24.0, style=ProgressStyle(description_widt…"
      ]
     },
     "metadata": {},
     "output_type": "display_data"
    },
    {
     "name": "stdout",
     "output_type": "stream",
     "text": [
      "(1200, 7)\n"
     ]
    },
    {
     "data": {
      "application/vnd.jupyter.widget-view+json": {
       "model_id": "",
       "version_major": 2,
       "version_minor": 0
      },
      "text/plain": [
       "HBox(children=(FloatProgress(value=0.0, description='Vitamine', max=24.0, style=ProgressStyle(description_widt…"
      ]
     },
     "metadata": {},
     "output_type": "display_data"
    },
    {
     "name": "stdout",
     "output_type": "stream",
     "text": [
      "(1224, 7)\n"
     ]
    },
    {
     "data": {
      "application/vnd.jupyter.widget-view+json": {
       "model_id": "",
       "version_major": 2,
       "version_minor": 0
      },
      "text/plain": [
       "HBox(children=(FloatProgress(value=0.0, description='Vitamine', max=24.0, style=ProgressStyle(description_widt…"
      ]
     },
     "metadata": {},
     "output_type": "display_data"
    },
    {
     "name": "stdout",
     "output_type": "stream",
     "text": [
      "(1248, 7)\n"
     ]
    },
    {
     "data": {
      "application/vnd.jupyter.widget-view+json": {
       "model_id": "",
       "version_major": 2,
       "version_minor": 0
      },
      "text/plain": [
       "HBox(children=(FloatProgress(value=0.0, description='Vitamine', max=24.0, style=ProgressStyle(description_widt…"
      ]
     },
     "metadata": {},
     "output_type": "display_data"
    },
    {
     "name": "stdout",
     "output_type": "stream",
     "text": [
      "(1272, 7)\n"
     ]
    },
    {
     "data": {
      "application/vnd.jupyter.widget-view+json": {
       "model_id": "",
       "version_major": 2,
       "version_minor": 0
      },
      "text/plain": [
       "HBox(children=(FloatProgress(value=0.0, description='Vitamine', max=24.0, style=ProgressStyle(description_widt…"
      ]
     },
     "metadata": {},
     "output_type": "display_data"
    },
    {
     "name": "stdout",
     "output_type": "stream",
     "text": [
      "(1296, 7)\n"
     ]
    },
    {
     "data": {
      "application/vnd.jupyter.widget-view+json": {
       "model_id": "",
       "version_major": 2,
       "version_minor": 0
      },
      "text/plain": [
       "HBox(children=(FloatProgress(value=0.0, description='Vitamine', max=24.0, style=ProgressStyle(description_widt…"
      ]
     },
     "metadata": {},
     "output_type": "display_data"
    },
    {
     "name": "stdout",
     "output_type": "stream",
     "text": [
      "(1320, 7)\n"
     ]
    },
    {
     "data": {
      "application/vnd.jupyter.widget-view+json": {
       "model_id": "",
       "version_major": 2,
       "version_minor": 0
      },
      "text/plain": [
       "HBox(children=(FloatProgress(value=0.0, description='Vitamine', max=24.0, style=ProgressStyle(description_widt…"
      ]
     },
     "metadata": {},
     "output_type": "display_data"
    },
    {
     "name": "stdout",
     "output_type": "stream",
     "text": [
      "(1344, 7)\n"
     ]
    },
    {
     "data": {
      "application/vnd.jupyter.widget-view+json": {
       "model_id": "",
       "version_major": 2,
       "version_minor": 0
      },
      "text/plain": [
       "HBox(children=(FloatProgress(value=0.0, description='Vitamine', max=24.0, style=ProgressStyle(description_widt…"
      ]
     },
     "metadata": {},
     "output_type": "display_data"
    },
    {
     "name": "stdout",
     "output_type": "stream",
     "text": [
      "(1368, 7)\n"
     ]
    },
    {
     "data": {
      "application/vnd.jupyter.widget-view+json": {
       "model_id": "",
       "version_major": 2,
       "version_minor": 0
      },
      "text/plain": [
       "HBox(children=(FloatProgress(value=0.0, description='Vitamine', max=24.0, style=ProgressStyle(description_widt…"
      ]
     },
     "metadata": {},
     "output_type": "display_data"
    },
    {
     "name": "stdout",
     "output_type": "stream",
     "text": [
      "(1392, 7)\n"
     ]
    },
    {
     "data": {
      "application/vnd.jupyter.widget-view+json": {
       "model_id": "",
       "version_major": 2,
       "version_minor": 0
      },
      "text/plain": [
       "HBox(children=(FloatProgress(value=0.0, description='Vitamine', max=24.0, style=ProgressStyle(description_widt…"
      ]
     },
     "metadata": {},
     "output_type": "display_data"
    },
    {
     "name": "stdout",
     "output_type": "stream",
     "text": [
      "(1416, 7)\n"
     ]
    },
    {
     "data": {
      "application/vnd.jupyter.widget-view+json": {
       "model_id": "",
       "version_major": 2,
       "version_minor": 0
      },
      "text/plain": [
       "HBox(children=(FloatProgress(value=0.0, description='Vitamine', max=24.0, style=ProgressStyle(description_widt…"
      ]
     },
     "metadata": {},
     "output_type": "display_data"
    },
    {
     "name": "stdout",
     "output_type": "stream",
     "text": [
      "(1440, 7)\n"
     ]
    },
    {
     "data": {
      "application/vnd.jupyter.widget-view+json": {
       "model_id": "",
       "version_major": 2,
       "version_minor": 0
      },
      "text/plain": [
       "HBox(children=(FloatProgress(value=0.0, description='Vitamine', max=24.0, style=ProgressStyle(description_widt…"
      ]
     },
     "metadata": {},
     "output_type": "display_data"
    },
    {
     "name": "stdout",
     "output_type": "stream",
     "text": [
      "(1464, 7)\n"
     ]
    },
    {
     "data": {
      "application/vnd.jupyter.widget-view+json": {
       "model_id": "",
       "version_major": 2,
       "version_minor": 0
      },
      "text/plain": [
       "HBox(children=(FloatProgress(value=0.0, description='Vitamine', max=24.0, style=ProgressStyle(description_widt…"
      ]
     },
     "metadata": {},
     "output_type": "display_data"
    },
    {
     "name": "stdout",
     "output_type": "stream",
     "text": [
      "(1488, 7)\n"
     ]
    },
    {
     "data": {
      "application/vnd.jupyter.widget-view+json": {
       "model_id": "",
       "version_major": 2,
       "version_minor": 0
      },
      "text/plain": [
       "HBox(children=(FloatProgress(value=0.0, description='Vitamine', max=24.0, style=ProgressStyle(description_widt…"
      ]
     },
     "metadata": {},
     "output_type": "display_data"
    },
    {
     "name": "stdout",
     "output_type": "stream",
     "text": [
      "(1512, 7)\n"
     ]
    },
    {
     "data": {
      "application/vnd.jupyter.widget-view+json": {
       "model_id": "",
       "version_major": 2,
       "version_minor": 0
      },
      "text/plain": [
       "HBox(children=(FloatProgress(value=0.0, description='Vitamine', max=24.0, style=ProgressStyle(description_widt…"
      ]
     },
     "metadata": {},
     "output_type": "display_data"
    },
    {
     "name": "stdout",
     "output_type": "stream",
     "text": [
      "(1536, 7)\n"
     ]
    },
    {
     "data": {
      "application/vnd.jupyter.widget-view+json": {
       "model_id": "",
       "version_major": 2,
       "version_minor": 0
      },
      "text/plain": [
       "HBox(children=(FloatProgress(value=0.0, description='Vitamine', max=24.0, style=ProgressStyle(description_widt…"
      ]
     },
     "metadata": {},
     "output_type": "display_data"
    },
    {
     "name": "stdout",
     "output_type": "stream",
     "text": [
      "(1560, 7)\n"
     ]
    },
    {
     "data": {
      "application/vnd.jupyter.widget-view+json": {
       "model_id": "",
       "version_major": 2,
       "version_minor": 0
      },
      "text/plain": [
       "HBox(children=(FloatProgress(value=0.0, description='Vitamine', max=24.0, style=ProgressStyle(description_widt…"
      ]
     },
     "metadata": {},
     "output_type": "display_data"
    },
    {
     "name": "stdout",
     "output_type": "stream",
     "text": [
      "(1584, 7)\n"
     ]
    },
    {
     "data": {
      "application/vnd.jupyter.widget-view+json": {
       "model_id": "",
       "version_major": 2,
       "version_minor": 0
      },
      "text/plain": [
       "HBox(children=(FloatProgress(value=0.0, description='Vitamine', max=24.0, style=ProgressStyle(description_widt…"
      ]
     },
     "metadata": {},
     "output_type": "display_data"
    },
    {
     "name": "stdout",
     "output_type": "stream",
     "text": [
      "(1608, 7)\n"
     ]
    },
    {
     "data": {
      "application/vnd.jupyter.widget-view+json": {
       "model_id": "",
       "version_major": 2,
       "version_minor": 0
      },
      "text/plain": [
       "HBox(children=(FloatProgress(value=0.0, description='Vitamine', max=24.0, style=ProgressStyle(description_widt…"
      ]
     },
     "metadata": {},
     "output_type": "display_data"
    },
    {
     "name": "stdout",
     "output_type": "stream",
     "text": [
      "(1632, 7)\n"
     ]
    },
    {
     "data": {
      "application/vnd.jupyter.widget-view+json": {
       "model_id": "",
       "version_major": 2,
       "version_minor": 0
      },
      "text/plain": [
       "HBox(children=(FloatProgress(value=0.0, description='Vitamine', max=24.0, style=ProgressStyle(description_widt…"
      ]
     },
     "metadata": {},
     "output_type": "display_data"
    },
    {
     "name": "stdout",
     "output_type": "stream",
     "text": [
      "(1656, 7)\n"
     ]
    },
    {
     "data": {
      "application/vnd.jupyter.widget-view+json": {
       "model_id": "",
       "version_major": 2,
       "version_minor": 0
      },
      "text/plain": [
       "HBox(children=(FloatProgress(value=0.0, description='Vitamine', max=24.0, style=ProgressStyle(description_widt…"
      ]
     },
     "metadata": {},
     "output_type": "display_data"
    },
    {
     "name": "stdout",
     "output_type": "stream",
     "text": [
      "(1680, 7)\n"
     ]
    },
    {
     "data": {
      "application/vnd.jupyter.widget-view+json": {
       "model_id": "",
       "version_major": 2,
       "version_minor": 0
      },
      "text/plain": [
       "HBox(children=(FloatProgress(value=0.0, description='Vitamine', max=24.0, style=ProgressStyle(description_widt…"
      ]
     },
     "metadata": {},
     "output_type": "display_data"
    },
    {
     "name": "stdout",
     "output_type": "stream",
     "text": [
      "(1704, 7)\n"
     ]
    },
    {
     "data": {
      "application/vnd.jupyter.widget-view+json": {
       "model_id": "",
       "version_major": 2,
       "version_minor": 0
      },
      "text/plain": [
       "HBox(children=(FloatProgress(value=0.0, description='Vitamine', max=24.0, style=ProgressStyle(description_widt…"
      ]
     },
     "metadata": {},
     "output_type": "display_data"
    },
    {
     "name": "stdout",
     "output_type": "stream",
     "text": [
      "(1728, 7)\n"
     ]
    },
    {
     "data": {
      "application/vnd.jupyter.widget-view+json": {
       "model_id": "",
       "version_major": 2,
       "version_minor": 0
      },
      "text/plain": [
       "HBox(children=(FloatProgress(value=0.0, description='Vitamine', max=24.0, style=ProgressStyle(description_widt…"
      ]
     },
     "metadata": {},
     "output_type": "display_data"
    },
    {
     "name": "stdout",
     "output_type": "stream",
     "text": [
      "(1752, 7)\n"
     ]
    },
    {
     "data": {
      "application/vnd.jupyter.widget-view+json": {
       "model_id": "",
       "version_major": 2,
       "version_minor": 0
      },
      "text/plain": [
       "HBox(children=(FloatProgress(value=0.0, description='Vitamine', max=24.0, style=ProgressStyle(description_widt…"
      ]
     },
     "metadata": {},
     "output_type": "display_data"
    },
    {
     "name": "stdout",
     "output_type": "stream",
     "text": [
      "(1776, 7)\n"
     ]
    },
    {
     "data": {
      "application/vnd.jupyter.widget-view+json": {
       "model_id": "",
       "version_major": 2,
       "version_minor": 0
      },
      "text/plain": [
       "HBox(children=(FloatProgress(value=0.0, description='Vitamine', max=24.0, style=ProgressStyle(description_widt…"
      ]
     },
     "metadata": {},
     "output_type": "display_data"
    },
    {
     "name": "stdout",
     "output_type": "stream",
     "text": [
      "(1800, 7)\n"
     ]
    },
    {
     "data": {
      "application/vnd.jupyter.widget-view+json": {
       "model_id": "",
       "version_major": 2,
       "version_minor": 0
      },
      "text/plain": [
       "HBox(children=(FloatProgress(value=0.0, description='Vitamine', max=24.0, style=ProgressStyle(description_widt…"
      ]
     },
     "metadata": {},
     "output_type": "display_data"
    },
    {
     "name": "stdout",
     "output_type": "stream",
     "text": [
      "(1824, 7)\n"
     ]
    },
    {
     "data": {
      "application/vnd.jupyter.widget-view+json": {
       "model_id": "",
       "version_major": 2,
       "version_minor": 0
      },
      "text/plain": [
       "HBox(children=(FloatProgress(value=0.0, description='Vitamine', max=24.0, style=ProgressStyle(description_widt…"
      ]
     },
     "metadata": {},
     "output_type": "display_data"
    },
    {
     "name": "stdout",
     "output_type": "stream",
     "text": [
      "(1848, 7)\n"
     ]
    },
    {
     "data": {
      "application/vnd.jupyter.widget-view+json": {
       "model_id": "",
       "version_major": 2,
       "version_minor": 0
      },
      "text/plain": [
       "HBox(children=(FloatProgress(value=0.0, description='Vitamine', max=24.0, style=ProgressStyle(description_widt…"
      ]
     },
     "metadata": {},
     "output_type": "display_data"
    },
    {
     "name": "stdout",
     "output_type": "stream",
     "text": [
      "(1872, 7)\n"
     ]
    },
    {
     "data": {
      "application/vnd.jupyter.widget-view+json": {
       "model_id": "",
       "version_major": 2,
       "version_minor": 0
      },
      "text/plain": [
       "HBox(children=(FloatProgress(value=0.0, description='Vitamine', max=24.0, style=ProgressStyle(description_widt…"
      ]
     },
     "metadata": {},
     "output_type": "display_data"
    },
    {
     "name": "stdout",
     "output_type": "stream",
     "text": [
      "(1896, 7)\n",
      "\n"
     ]
    }
   ],
   "source": [
    "final_df = pd.DataFrame(columns=['brand', 'description', 'name', 'price', 'quantity', 'rating', 'review'])\n",
    "\n",
    "for page_number in tqdm.notebook.tqdm(range(80), desc='Pages'):\n",
    "    \n",
    "    vitamine_links = getPageLinks(page_number) \n",
    "    for vitamine_link in tqdm.notebook.tqdm(vitamine_links, desc='Vitamine', leave=False):\n",
    "        \n",
    "        for i in range(3):\n",
    "            try:\n",
    "                \n",
    "                data_row = getVitamineData(vitamine_link)         \n",
    "                final_df = final_df.append(data_row, ignore_index=True)  \n",
    "\n",
    "                break\n",
    "                \n",
    "            except:\n",
    "                \n",
    "                continue\n",
    "                \n",
    "                \n",
    "    final_df.to_csv('Vitamine_IHerb{}.csv'.format(page_number))\n",
    "    if page_number//10:\n",
    "        print(final_df.shape)\n",
    "final_df.to_csv('Vitamine_IHerb_full.csv')"
   ]
  },
  {
   "cell_type": "code",
   "execution_count": 70,
   "metadata": {},
   "outputs": [],
   "source": [
    "data=pd.read_csv('Vitamine_IHerb_full.csv')"
   ]
  },
  {
   "cell_type": "code",
   "execution_count": 71,
   "metadata": {},
   "outputs": [],
   "source": [
    "del data['Unnamed: 0']"
   ]
  },
  {
   "cell_type": "code",
   "execution_count": 72,
   "metadata": {},
   "outputs": [
    {
     "data": {
      "text/html": [
       "<div>\n",
       "<style scoped>\n",
       "    .dataframe tbody tr th:only-of-type {\n",
       "        vertical-align: middle;\n",
       "    }\n",
       "\n",
       "    .dataframe tbody tr th {\n",
       "        vertical-align: top;\n",
       "    }\n",
       "\n",
       "    .dataframe thead th {\n",
       "        text-align: right;\n",
       "    }\n",
       "</style>\n",
       "<table border=\"1\" class=\"dataframe\">\n",
       "  <thead>\n",
       "    <tr style=\"text-align: right;\">\n",
       "      <th></th>\n",
       "      <th>brand</th>\n",
       "      <th>description</th>\n",
       "      <th>name</th>\n",
       "      <th>price</th>\n",
       "      <th>quantity</th>\n",
       "      <th>rating</th>\n",
       "      <th>review</th>\n",
       "    </tr>\n",
       "  </thead>\n",
       "  <tbody>\n",
       "    <tr>\n",
       "      <th>0</th>\n",
       "      <td>California Gold Nutrition</td>\n",
       "      <td>California Gold Nutrition Immune 4 חיזוק המערכ...</td>\n",
       "      <td>California Gold Nutrition‏, Immune4, ת...</td>\n",
       "      <td>NaN</td>\n",
       "      <td>60</td>\n",
       "      <td>4.8</td>\n",
       "      <td>97574.0</td>\n",
       "    </tr>\n",
       "    <tr>\n",
       "      <th>1</th>\n",
       "      <td>California Gold Nutrition</td>\n",
       "      <td>California Gold Nutrition Immune 4חיזוק המערכת...</td>\n",
       "      <td>California Gold Nutrition‏, Immune 4, ...</td>\n",
       "      <td>NaN</td>\n",
       "      <td>180</td>\n",
       "      <td>4.8</td>\n",
       "      <td>97574.0</td>\n",
       "    </tr>\n",
       "    <tr>\n",
       "      <th>2</th>\n",
       "      <td>California Gold Nutrition</td>\n",
       "      <td>אסטקסנטין מבית California Gold NutritionAstal...</td>\n",
       "      <td>California Gold Nutrition‏, אסטקסנטין ...</td>\n",
       "      <td>NaN</td>\n",
       "      <td>120</td>\n",
       "      <td>4.6</td>\n",
       "      <td>12439.0</td>\n",
       "    </tr>\n",
       "    <tr>\n",
       "      <th>3</th>\n",
       "      <td>Natural Factors</td>\n",
       "      <td>תוסף תזונהתפקוד תקין של העיןטוהר ועוצמה מובטחי...</td>\n",
       "      <td>Natural Factors‏, תוסף תזונה Eye Facto...</td>\n",
       "      <td>NaN</td>\n",
       "      <td>NaN</td>\n",
       "      <td>4.5</td>\n",
       "      <td>6795.0</td>\n",
       "    </tr>\n",
       "    <tr>\n",
       "      <th>4</th>\n",
       "      <td>California Gold Nutrition</td>\n",
       "      <td>California Gold Nutrition®️שמן דגים עם אומגה 3...</td>\n",
       "      <td>California Gold Nutrition‏, אומגה 3, ש...</td>\n",
       "      <td>24.57</td>\n",
       "      <td>100</td>\n",
       "      <td>4.8</td>\n",
       "      <td>195534.0</td>\n",
       "    </tr>\n",
       "  </tbody>\n",
       "</table>\n",
       "</div>"
      ],
      "text/plain": [
       "                       brand  \\\n",
       "0  California Gold Nutrition   \n",
       "1  California Gold Nutrition   \n",
       "2  California Gold Nutrition   \n",
       "3            Natural Factors   \n",
       "4  California Gold Nutrition   \n",
       "\n",
       "                                         description  \\\n",
       "0  California Gold Nutrition Immune 4 חיזוק המערכ...   \n",
       "1  California Gold Nutrition Immune 4חיזוק המערכת...   \n",
       "2   אסטקסנטין מבית California Gold NutritionAstal...   \n",
       "3  תוסף תזונהתפקוד תקין של העיןטוהר ועוצמה מובטחי...   \n",
       "4  California Gold Nutrition®️שמן דגים עם אומגה 3...   \n",
       "\n",
       "                                                name  price quantity rating  \\\n",
       "0          California Gold Nutrition‏, Immune4, ת...    NaN       60    4.8   \n",
       "1          California Gold Nutrition‏, Immune 4, ...    NaN      180    4.8   \n",
       "2          California Gold Nutrition‏, אסטקסנטין ...    NaN      120    4.6   \n",
       "3          Natural Factors‏, תוסף תזונה Eye Facto...    NaN      NaN    4.5   \n",
       "4          California Gold Nutrition‏, אומגה 3, ש...  24.57      100    4.8   \n",
       "\n",
       "     review  \n",
       "0   97574.0  \n",
       "1   97574.0  \n",
       "2   12439.0  \n",
       "3    6795.0  \n",
       "4  195534.0  "
      ]
     },
     "execution_count": 72,
     "metadata": {},
     "output_type": "execute_result"
    }
   ],
   "source": [
    "data.head()"
   ]
  },
  {
   "cell_type": "code",
   "execution_count": 73,
   "metadata": {
    "scrolled": true
   },
   "outputs": [
    {
     "name": "stdout",
     "output_type": "stream",
     "text": [
      "<class 'pandas.core.frame.DataFrame'>\n",
      "RangeIndex: 1896 entries, 0 to 1895\n",
      "Data columns (total 7 columns):\n",
      " #   Column       Non-Null Count  Dtype  \n",
      "---  ------       --------------  -----  \n",
      " 0   brand        1896 non-null   object \n",
      " 1   description  1896 non-null   object \n",
      " 2   name         1896 non-null   object \n",
      " 3   price        1699 non-null   float64\n",
      " 4   quantity     738 non-null    object \n",
      " 5   rating       1892 non-null   object \n",
      " 6   review       1892 non-null   float64\n",
      "dtypes: float64(2), object(5)\n",
      "memory usage: 103.8+ KB\n"
     ]
    }
   ],
   "source": [
    "data.info()"
   ]
  },
  {
   "cell_type": "markdown",
   "metadata": {},
   "source": [
    "As a result, we received some data on vitamins for eye vision from the pages of iHerb website, it turned out 1896 products from 80 pages, we saved data in a dataframe"
   ]
  }
 ],
 "metadata": {
  "kernelspec": {
   "display_name": "Python 3 (ipykernel)",
   "language": "python",
   "name": "python3"
  },
  "language_info": {
   "codemirror_mode": {
    "name": "ipython",
    "version": 3
   },
   "file_extension": ".py",
   "mimetype": "text/x-python",
   "name": "python",
   "nbconvert_exporter": "python",
   "pygments_lexer": "ipython3",
   "version": "3.11.3"
  }
 },
 "nbformat": 4,
 "nbformat_minor": 4
}
